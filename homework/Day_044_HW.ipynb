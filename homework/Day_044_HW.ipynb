{
 "cells": [
  {
   "cell_type": "markdown",
   "metadata": {},
   "source": [
    "## [作業重點]\n",
    "確保你了解隨機森林模型中每個超參數的意義，並觀察調整超參數對結果的影響"
   ]
  },
  {
   "cell_type": "markdown",
   "metadata": {},
   "source": [
    "## 作業\n",
    "\n",
    "1. 試著調整 RandomForestClassifier(...) 中的參數，並觀察是否會改變結果？\n",
    "2. 改用其他資料集 (boston, wine)，並與回歸模型與決策樹的結果進行比較"
   ]
  },
  {
   "cell_type": "code",
   "execution_count": 1,
   "metadata": {
    "collapsed": true
   },
   "outputs": [],
   "source": [
    "from sklearn import datasets, metrics, linear_model\n",
    "from sklearn.ensemble import RandomForestClassifier, RandomForestRegressor\n",
    "from sklearn.model_selection import train_test_split"
   ]
  },
  {
   "cell_type": "markdown",
   "metadata": {},
   "source": [
    "## Iris dataset\n",
    "#### 調整 RandomForestClassifier(...) 中的參數"
   ]
  },
  {
   "cell_type": "code",
   "execution_count": 2,
   "metadata": {
    "collapsed": true
   },
   "outputs": [],
   "source": [
    "# 讀取鳶尾花資料集\n",
    "iris = datasets.load_iris()\n",
    "\n",
    "# 切分訓練集/測試集\n",
    "x_train, x_test, y_train, y_test = train_test_split(iris.data, iris.target, test_size=0.25, random_state=4)"
   ]
  },
  {
   "cell_type": "code",
   "execution_count": 3,
   "metadata": {},
   "outputs": [
    {
     "name": "stdout",
     "output_type": "stream",
     "text": [
      "Acuuracy of n_estimators=1: train=0.9375 test=0.9210526315789473 \n",
      "Acuuracy of n_estimators=2: train=0.9464285714285714 test=0.9473684210526315 \n",
      "Acuuracy of n_estimators=4: train=0.9464285714285714 test=0.9736842105263158 \n",
      "Acuuracy of n_estimators=6: train=0.9732142857142857 test=0.9736842105263158 \n",
      "Acuuracy of n_estimators=8: train=0.9553571428571429 test=0.9736842105263158 \n",
      "Acuuracy of n_estimators=10: train=0.9732142857142857 test=0.9736842105263158 \n",
      "Acuuracy of n_estimators=15: train=0.9464285714285714 test=0.9736842105263158 \n",
      "Acuuracy of n_estimators=20: train=0.9642857142857143 test=0.9736842105263158 \n"
     ]
    },
    {
     "data": {
      "text/plain": [
       "<matplotlib.legend.Legend at 0x260a631c5f8>"
      ]
     },
     "execution_count": 3,
     "metadata": {},
     "output_type": "execute_result"
    },
    {
     "data": {
      "image/png": "[encoded data removed]",
      "text/plain": [
       "<Figure size 432x288 with 1 Axes>"
      ]
     },
     "metadata": {},
     "output_type": "display_data"
    }
   ],
   "source": [
    "import matplotlib.pyplot as plt\n",
    "%matplotlib inline\n",
    "\n",
    "n_tree = [1,2,4,6,8,10,15,20]\n",
    "acc_train_list = []\n",
    "acc_test_list = []\n",
    "for i in range(len(n_tree)):\n",
    "    clf = RandomForestClassifier(n_estimators=n_tree[i], max_depth=2)\n",
    "    clf.fit(x_train, y_train)\n",
    "    y_pred = clf.predict(x_test)\n",
    "    \n",
    "    acc_train = metrics.accuracy_score(y_train, clf.predict(x_train))\n",
    "    acc_test = metrics.accuracy_score(y_test, y_pred)\n",
    "    acc_train_list.append(acc_train)\n",
    "    acc_test_list.append(acc_test)\n",
    "    print(\"Acuuracy of n_estimators={}: train={} test={} \".format(n_tree[i], acc_train, acc_test))\n",
    "\n",
    "plt.plot(n_tree, acc_train_list, 'b', label='train_acc')    \n",
    "plt.plot(n_tree, acc_test_list, 'r', label='test_acc')\n",
    "plt.xlabel('n_estimators')\n",
    "plt.ylabel('Acuuracy')\n",
    "plt.legend()   "
   ]
  },
  {
   "cell_type": "markdown",
   "metadata": {},
   "source": [
    "## Boston dataset"
   ]
  },
  {
   "cell_type": "code",
   "execution_count": 4,
   "metadata": {
    "collapsed": true
   },
   "outputs": [],
   "source": [
    "# 讀取boston資料集\n",
    "boston = datasets.load_boston()"
   ]
  },
  {
   "cell_type": "code",
   "execution_count": 5,
   "metadata": {},
   "outputs": [
    {
     "name": "stdout",
     "output_type": "stream",
     "text": [
      "Mean squared error: 25.42\n"
     ]
    }
   ],
   "source": [
    "# 切分訓練集/測試集\n",
    "x_train, x_test, y_train, y_test = train_test_split(boston.data, boston.target, test_size=0.2, random_state=4)\n",
    "\n",
    "# 建立一個線性回歸模型\n",
    "regr = linear_model.LinearRegression()\n",
    "\n",
    "# 將訓練資料丟進去模型訓練\n",
    "regr.fit(x_train, y_train)\n",
    "\n",
    "# 將測試資料丟進模型得到預測結果\n",
    "y_pred = regr.predict(x_test)\n",
    "\n",
    "# 預測值與實際值的差距，使用 MSE\n",
    "print(\"Mean squared error: %.2f\"\n",
    "      % metrics.mean_squared_error(y_test, y_pred))"
   ]
  },
  {
   "cell_type": "code",
   "execution_count": 9,
   "metadata": {},
   "outputs": [
    {
     "name": "stdout",
     "output_type": "stream",
     "text": [
      "Mean squared error of n_estimators=2: train=9.556182283658162 test=28.190406526307157 \n",
      "Mean squared error of n_estimators=4: train=8.900777749094704 test=21.950919308171525 \n",
      "Mean squared error of n_estimators=8: train=7.731077837268201 test=19.11327954893701 \n",
      "Mean squared error of n_estimators=16: train=7.801828824626387 test=19.35583548938947 \n",
      "Mean squared error of n_estimators=32: train=7.086999791655708 test=19.386900206178215 \n",
      "Mean squared error of n_estimators=64: train=7.037749041618378 test=21.202680360543926 \n",
      "Mean squared error of n_estimators=128: train=7.014986114590331 test=19.915839572218346 \n",
      "Mean squared error of n_estimators=256: train=7.116604964586292 test=20.60974771282967 \n"
     ]
    },
    {
     "data": {
      "text/plain": [
       "<matplotlib.legend.Legend at 0x260a65becf8>"
      ]
     },
     "execution_count": 9,
     "metadata": {},
     "output_type": "execute_result"
    },
    {
     "data": {
      "image/png": "[encoded data removed]",
      "text/plain": [
       "<Figure size 432x288 with 1 Axes>"
      ]
     },
     "metadata": {},
     "output_type": "display_data"
    }
   ],
   "source": [
    "n_tree = [2,4,8,16,32,64,128,256]\n",
    "train_err_list = []\n",
    "test_err_list = []\n",
    "for i in range(len(n_tree)):\n",
    "    regr = RandomForestRegressor(n_estimators=n_tree[i], max_depth=4)\n",
    "    regr.fit(x_train, y_train)\n",
    "    y_pred = regr.predict(x_test)\n",
    "    train_err = metrics.mean_squared_error(y_train, regr.predict(x_train))\n",
    "    test_err = metrics.mean_squared_error(y_test, y_pred)\n",
    "    print(\"Mean squared error of n_estimators={}: train={} test={} \".format(n_tree[i], train_err, test_err))\n",
    "    train_err_list.append(train_err)\n",
    "    test_err_list.append(test_err)\n",
    "    \n",
    "plt.plot(n_tree, train_err_list, 'b', label='train_err')    \n",
    "plt.plot(n_tree, test_err_list, 'r', label='test_err')\n",
    "plt.xlabel('n_estimators')\n",
    "plt.ylabel('Mean squared error')\n",
    "plt.legend()"
   ]
  },
  {
   "cell_type": "code",
   "execution_count": null,
   "metadata": {
    "collapsed": true
   },
   "outputs": [],
   "source": []
  }
 ],
 "metadata": {
  "kernelspec": {
   "display_name": "Python 3",
   "language": "python",
   "name": "python3"
  },
  "language_info": {
   "codemirror_mode": {
    "name": "ipython",
    "version": 3
   },
   "file_extension": ".py",
   "mimetype": "text/x-python",
   "name": "python",
   "nbconvert_exporter": "python",
   "pygments_lexer": "ipython3",
   "version": "3.6.3"
  }
 },
 "nbformat": 4,
 "nbformat_minor": 2
}
