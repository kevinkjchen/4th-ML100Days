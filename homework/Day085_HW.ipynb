{
 "cells": [
  {
   "cell_type": "markdown",
   "metadata": {},
   "source": [
    "## Work\n",
    "1. 試改變 monitor \"Validation Accuracy\" 並比較結果\n",
    "2. 調整 earlystop 的等待次數至 10, 25 並比較結果"
   ]
  },
  {
   "cell_type": "code",
   "execution_count": 1,
   "metadata": {},
   "outputs": [],
   "source": [
    "import os\n",
    "from tensorflow import keras\n",
    "from tensorflow.keras.regularizers import l1, l2, l1_l2\n",
    "from tensorflow.keras.layers import Dropout\n",
    "from tensorflow.keras.layers import BatchNormalization\n",
    "import matplotlib.pyplot as plt\n",
    "%matplotlib inline\n",
    "\n",
    "\n",
    "# Disable GPU\n",
    "# os.environ[\"CUDA_VISIBLE_DEVICES\"] = \"\"\n",
    "# Enable GPU 0\n",
    "os.environ[\"CUDA_VISIBLE_DEVICES\"] = \"0\""
   ]
  },
  {
   "cell_type": "code",
   "execution_count": 2,
   "metadata": {},
   "outputs": [],
   "source": [
    "train, test = keras.datasets.cifar10.load_data()"
   ]
  },
  {
   "cell_type": "code",
   "execution_count": 3,
   "metadata": {},
   "outputs": [],
   "source": [
    "## 資料前處理\n",
    "def preproc_x(x, flatten=True):\n",
    "    x = x / 255.\n",
    "    if flatten:\n",
    "        x = x.reshape((len(x), -1))\n",
    "    return x\n",
    "\n",
    "def preproc_y(y, num_classes=10):\n",
    "    if y.shape[-1] == 1:\n",
    "        y = keras.utils.to_categorical(y, num_classes)\n",
    "    return y    "
   ]
  },
  {
   "cell_type": "code",
   "execution_count": 4,
   "metadata": {},
   "outputs": [],
   "source": [
    "x_train, y_train = train\n",
    "x_test, y_test = test\n",
    "\n",
    "# Preproc the inputs\n",
    "x_train = preproc_x(x_train)\n",
    "x_test = preproc_x(x_test)\n",
    "\n",
    "# Preprc the outputs\n",
    "y_train = preproc_y(y_train)\n",
    "y_test = preproc_y(y_test)"
   ]
  },
  {
   "cell_type": "code",
   "execution_count": 5,
   "metadata": {},
   "outputs": [],
   "source": [
    "def build_mlp(input_shape, output_units=10, num_neurons=[512, 256, 128], l1_p=1e-8, l2_p=1e-12, drp_ratio=0., BN=True):\n",
    "    \"\"\"Code Here\n",
    "    建立你的神經網路\n",
    "    \"\"\"\n",
    "    input_layer = keras.layers.Input(input_shape)\n",
    "    \n",
    "    for i, n_units in enumerate(num_neurons):\n",
    "        if i == 0:\n",
    "            x = keras.layers.Dense(units=n_units, name=\"hidden_layer\"+str(i+1), \n",
    "                                   kernel_regularizer=l1_l2(l1=l1_p, l2=l2_p))(input_layer)\n",
    "            if BN == True:\n",
    "                x = BatchNormalization()(x)\n",
    "            x = keras.layers.ReLU()(x)\n",
    "            x = Dropout(drp_ratio)(x)\n",
    "        else:\n",
    "            x = keras.layers.Dense(units=n_units, name=\"hidden_layer\"+str(i+1),\n",
    "                                  kernel_regularizer=l1_l2(l1=l1_p, l2=l2_p))(x)\n",
    "            if BN == True:\n",
    "                x = BatchNormalization()(x)\n",
    "            x = keras.layers.ReLU()(x)\n",
    "            x = Dropout(drp_ratio)(x)\n",
    "    \n",
    "    out = keras.layers.Dense(units=output_units, activation=\"softmax\", name=\"output\")(x)\n",
    "    \n",
    "    model = keras.models.Model(inputs=[input_layer], outputs=[out])\n",
    "    return model"
   ]
  },
  {
   "cell_type": "code",
   "execution_count": 6,
   "metadata": {},
   "outputs": [],
   "source": [
    "\"\"\"Code Here\n",
    "設定超參數\n",
    "\"\"\"\n",
    "LEARNING_RATE = 1e-3\n",
    "EPOCHS = 50\n",
    "BATCH_SIZE = 1024\n",
    "MOMENTUM = 0.95"
   ]
  },
  {
   "cell_type": "code",
   "execution_count": 7,
   "metadata": {},
   "outputs": [],
   "source": [
    "# 載入 Callbacks\n",
    "\"\"\"Code Here\n",
    "設定 callbacks: Earlystop\n",
    "\"\"\"\n",
    "from tensorflow.keras.callbacks import EarlyStopping\n",
    "\n",
    "earlystop = EarlyStopping(monitor=\"val_accuracy\", \n",
    "                          patience=10, \n",
    "                          verbose=1\n",
    "                          )"
   ]
  },
  {
   "cell_type": "code",
   "execution_count": 8,
   "metadata": {
    "scrolled": false
   },
   "outputs": [
    {
     "name": "stdout",
     "output_type": "stream",
     "text": [
      "Model: \"model\"\n",
      "_________________________________________________________________\n",
      "Layer (type)                 Output Shape              Param #   \n",
      "=================================================================\n",
      "input_1 (InputLayer)         [(None, 3072)]            0         \n",
      "_________________________________________________________________\n",
      "hidden_layer1 (Dense)        (None, 512)               1573376   \n",
      "_________________________________________________________________\n",
      "batch_normalization (BatchNo (None, 512)               2048      \n",
      "_________________________________________________________________\n",
      "re_lu (ReLU)                 (None, 512)               0         \n",
      "_________________________________________________________________\n",
      "dropout (Dropout)            (None, 512)               0         \n",
      "_________________________________________________________________\n",
      "hidden_layer2 (Dense)        (None, 256)               131328    \n",
      "_________________________________________________________________\n",
      "batch_normalization_1 (Batch (None, 256)               1024      \n",
      "_________________________________________________________________\n",
      "re_lu_1 (ReLU)               (None, 256)               0         \n",
      "_________________________________________________________________\n",
      "dropout_1 (Dropout)          (None, 256)               0         \n",
      "_________________________________________________________________\n",
      "hidden_layer3 (Dense)        (None, 128)               32896     \n",
      "_________________________________________________________________\n",
      "batch_normalization_2 (Batch (None, 128)               512       \n",
      "_________________________________________________________________\n",
      "re_lu_2 (ReLU)               (None, 128)               0         \n",
      "_________________________________________________________________\n",
      "dropout_2 (Dropout)          (None, 128)               0         \n",
      "_________________________________________________________________\n",
      "output (Dense)               (None, 10)                1290      \n",
      "=================================================================\n",
      "Total params: 1,742,474\n",
      "Trainable params: 1,740,682\n",
      "Non-trainable params: 1,792\n",
      "_________________________________________________________________\n",
      "Epoch 1/50\n",
      "49/49 [==============================] - 2s 45ms/step - loss: 2.1353 - accuracy: 0.2479 - val_loss: 2.1396 - val_accuracy: 0.2158s - loss: 2.2097 - ac\n",
      "Epoch 2/50\n",
      "49/49 [==============================] - 2s 37ms/step - loss: 1.7739 - accuracy: 0.3781 - val_loss: 2.0110 - val_accuracy: 0.2852\n",
      "Epoch 3/50\n",
      "49/49 [==============================] - 2s 37ms/step - loss: 1.6639 - accuracy: 0.4200 - val_loss: 1.8886 - val_accuracy: 0.3369\n",
      "Epoch 4/50\n",
      "49/49 [==============================] - 2s 37ms/step - loss: 1.5935 - accuracy: 0.4474 - val_loss: 1.7641 - val_accuracy: 0.3880\n",
      "Epoch 5/50\n",
      "49/49 [==============================] - 2s 37ms/step - loss: 1.5394 - accuracy: 0.4661 - val_loss: 1.6882 - val_accuracy: 0.4101\n",
      "Epoch 6/50\n",
      "49/49 [==============================] - 2s 38ms/step - loss: 1.4942 - accuracy: 0.4842 - val_loss: 1.6352 - val_accuracy: 0.4244\n",
      "Epoch 7/50\n",
      "49/49 [==============================] - 2s 37ms/step - loss: 1.4545 - accuracy: 0.4979 - val_loss: 1.5883 - val_accuracy: 0.4417\n",
      "Epoch 8/50\n",
      "49/49 [==============================] - 2s 38ms/step - loss: 1.4188 - accuracy: 0.5094 - val_loss: 1.5559 - val_accuracy: 0.4555\n",
      "Epoch 9/50\n",
      "49/49 [==============================] - 2s 40ms/step - loss: 1.3864 - accuracy: 0.5217 - val_loss: 1.5275 - val_accuracy: 0.4606\n",
      "Epoch 10/50\n",
      "49/49 [==============================] - 2s 38ms/step - loss: 1.3561 - accuracy: 0.5324 - val_loss: 1.5123 - val_accuracy: 0.4630\n",
      "Epoch 11/50\n",
      "49/49 [==============================] - 2s 39ms/step - loss: 1.3270 - accuracy: 0.5423 - val_loss: 1.4994 - val_accuracy: 0.4655\n",
      "Epoch 12/50\n",
      "49/49 [==============================] - 2s 38ms/step - loss: 1.3005 - accuracy: 0.5543 - val_loss: 1.4796 - val_accuracy: 0.4725\n",
      "Epoch 13/50\n",
      "49/49 [==============================] - 2s 38ms/step - loss: 1.2738 - accuracy: 0.5635 - val_loss: 1.4746 - val_accuracy: 0.4733\n",
      "Epoch 14/50\n",
      "49/49 [==============================] - 2s 37ms/step - loss: 1.2481 - accuracy: 0.5748 - val_loss: 1.4636 - val_accuracy: 0.4785\n",
      "Epoch 15/50\n",
      "49/49 [==============================] - 2s 38ms/step - loss: 1.2241 - accuracy: 0.5832 - val_loss: 1.4566 - val_accuracy: 0.4828\n",
      "Epoch 16/50\n",
      "49/49 [==============================] - 2s 38ms/step - loss: 1.2001 - accuracy: 0.5921 - val_loss: 1.4578 - val_accuracy: 0.4810\n",
      "Epoch 17/50\n",
      "49/49 [==============================] - 2s 37ms/step - loss: 1.1777 - accuracy: 0.5986 - val_loss: 1.4477 - val_accuracy: 0.4847\n",
      "Epoch 18/50\n",
      "49/49 [==============================] - 2s 38ms/step - loss: 1.1542 - accuracy: 0.6089 - val_loss: 1.4362 - val_accuracy: 0.4928\n",
      "Epoch 19/50\n",
      "49/49 [==============================] - 2s 38ms/step - loss: 1.1318 - accuracy: 0.6183 - val_loss: 1.4296 - val_accuracy: 0.4918\n",
      "Epoch 20/50\n",
      "49/49 [==============================] - 2s 37ms/step - loss: 1.1099 - accuracy: 0.6277 - val_loss: 1.4310 - val_accuracy: 0.4956\n",
      "Epoch 21/50\n",
      "49/49 [==============================] - 2s 37ms/step - loss: 1.0883 - accuracy: 0.6349 - val_loss: 1.4251 - val_accuracy: 0.4973\n",
      "Epoch 22/50\n",
      "49/49 [==============================] - 2s 37ms/step - loss: 1.0666 - accuracy: 0.6437 - val_loss: 1.4239 - val_accuracy: 0.4980\n",
      "Epoch 23/50\n",
      "49/49 [==============================] - 2s 37ms/step - loss: 1.0452 - accuracy: 0.6515 - val_loss: 1.4315 - val_accuracy: 0.4948 - \n",
      "Epoch 24/50\n",
      "49/49 [==============================] - 2s 37ms/step - loss: 1.0242 - accuracy: 0.6586 - val_loss: 1.4217 - val_accuracy: 0.4985\n",
      "Epoch 25/50\n",
      "49/49 [==============================] - 2s 37ms/step - loss: 1.0038 - accuracy: 0.6673 - val_loss: 1.4365 - val_accuracy: 0.4934\n",
      "Epoch 26/50\n",
      "49/49 [==============================] - 2s 38ms/step - loss: 0.9841 - accuracy: 0.6753 - val_loss: 1.4205 - val_accuracy: 0.4984\n",
      "Epoch 27/50\n",
      "49/49 [==============================] - 2s 40ms/step - loss: 0.9621 - accuracy: 0.6841 - val_loss: 1.4152 - val_accuracy: 0.4993 0s - loss: 0.9644 - accuracy\n",
      "Epoch 28/50\n",
      "49/49 [==============================] - 2s 38ms/step - loss: 0.9419 - accuracy: 0.6914 - val_loss: 1.4216 - val_accuracy: 0.5002\n",
      "Epoch 29/50\n",
      "49/49 [==============================] - 2s 38ms/step - loss: 0.9219 - accuracy: 0.6998 - val_loss: 1.4317 - val_accuracy: 0.5001\n",
      "Epoch 30/50\n",
      "49/49 [==============================] - 2s 37ms/step - loss: 0.9021 - accuracy: 0.7075 - val_loss: 1.4374 - val_accuracy: 0.4933\n",
      "Epoch 31/50\n",
      "49/49 [==============================] - 2s 37ms/step - loss: 0.8809 - accuracy: 0.7167 - val_loss: 1.4358 - val_accuracy: 0.5023\n",
      "Epoch 32/50\n",
      "49/49 [==============================] - 2s 38ms/step - loss: 0.8616 - accuracy: 0.7234 - val_loss: 1.4377 - val_accuracy: 0.4970\n",
      "Epoch 33/50\n",
      "49/49 [==============================] - 2s 37ms/step - loss: 0.8419 - accuracy: 0.7316 - val_loss: 1.4330 - val_accuracy: 0.5011\n",
      "Epoch 34/50\n",
      "49/49 [==============================] - 2s 37ms/step - loss: 0.8225 - accuracy: 0.7386 - val_loss: 1.4425 - val_accuracy: 0.4967\n",
      "Epoch 35/50\n",
      "49/49 [==============================] - 2s 39ms/step - loss: 0.8025 - accuracy: 0.7466 - val_loss: 1.4391 - val_accuracy: 0.4992\n",
      "Epoch 36/50\n",
      "49/49 [==============================] - 2s 40ms/step - loss: 0.7814 - accuracy: 0.7574 - val_loss: 1.4450 - val_accuracy: 0.5004\n",
      "Epoch 37/50\n",
      "49/49 [==============================] - 2s 37ms/step - loss: 0.7633 - accuracy: 0.7634 - val_loss: 1.4583 - val_accuracy: 0.4997\n",
      "Epoch 38/50\n",
      "49/49 [==============================] - 2s 38ms/step - loss: 0.7427 - accuracy: 0.7727 - val_loss: 1.4549 - val_accuracy: 0.5001\n",
      "Epoch 39/50\n",
      "49/49 [==============================] - 2s 37ms/step - loss: 0.7249 - accuracy: 0.7782 - val_loss: 1.4691 - val_accuracy: 0.4982\n",
      "Epoch 40/50\n",
      "49/49 [==============================] - 2s 38ms/step - loss: 0.7067 - accuracy: 0.7875 - val_loss: 1.4742 - val_accuracy: 0.4975\n",
      "Epoch 41/50\n",
      "49/49 [==============================] - 2s 38ms/step - loss: 0.6857 - accuracy: 0.7960 - val_loss: 1.4985 - val_accuracy: 0.4874\n",
      "Epoch 00041: early stopping\n"
     ]
    }
   ],
   "source": [
    "\n",
    "\"\"\"Code Here\n",
    "撰寫你的訓練流程並將結果用 dictionary 紀錄\n",
    "\"\"\"\n",
    "model = build_mlp(input_shape=x_train.shape[1:])\n",
    "model.summary()\n",
    "optimizer = keras.optimizers.SGD(lr=LEARNING_RATE, nesterov=True, momentum=MOMENTUM)\n",
    "model.compile(loss=\"categorical_crossentropy\", metrics=[\"accuracy\"], optimizer=optimizer)\n",
    "\n",
    "model.fit(x_train, y_train, \n",
    "          epochs=EPOCHS, \n",
    "          batch_size=BATCH_SIZE, \n",
    "          validation_data=(x_test, y_test), \n",
    "          shuffle=True,\n",
    "          callbacks=[earlystop]\n",
    "         )\n",
    "\n",
    "# Collect results\n",
    "train_loss = model.history.history[\"loss\"]\n",
    "valid_loss = model.history.history[\"val_loss\"]\n",
    "train_acc = model.history.history[\"accuracy\"]\n",
    "valid_acc = model.history.history[\"val_accuracy\"]\n"
   ]
  },
  {
   "cell_type": "code",
   "execution_count": 9,
   "metadata": {},
   "outputs": [
    {
     "data": {
      "image/png": "[encoded data removed]",
      "text/plain": [
       "<Figure size 432x288 with 1 Axes>"
      ]
     },
     "metadata": {
      "needs_background": "light"
     },
     "output_type": "display_data"
    },
    {
     "data": {
      "image/png": "[encoded data removed]",
      "text/plain": [
       "<Figure size 432x288 with 1 Axes>"
      ]
     },
     "metadata": {
      "needs_background": "light"
     },
     "output_type": "display_data"
    }
   ],
   "source": [
    "import matplotlib.pyplot as plt\n",
    "%matplotlib inline\n",
    "\"\"\"Code Here\n",
    "將結果繪出\n",
    "\"\"\"\n",
    "plt.plot(range(len(train_loss)), train_loss, label=\"train loss\")\n",
    "plt.plot(range(len(valid_loss)), valid_loss, label=\"valid loss\")\n",
    "plt.legend()\n",
    "plt.title(\"Loss\")\n",
    "plt.show()\n",
    "\n",
    "plt.plot(range(len(train_acc)), train_acc, label=\"train accuracy\")\n",
    "plt.plot(range(len(valid_acc)), valid_acc, label=\"valid accuracy\")\n",
    "plt.legend()\n",
    "plt.title(\"Accuracy\")\n",
    "plt.show()"
   ]
  }
 ],
 "metadata": {
  "kernelspec": {
   "display_name": "Python 3",
   "language": "python",
   "name": "python3"
  },
  "language_info": {
   "codemirror_mode": {
    "name": "ipython",
    "version": 3
   },
   "file_extension": ".py",
   "mimetype": "text/x-python",
   "name": "python",
   "nbconvert_exporter": "python",
   "pygments_lexer": "ipython3",
   "version": "3.7.7"
  }
 },
 "nbformat": 4,
 "nbformat_minor": 2
}
