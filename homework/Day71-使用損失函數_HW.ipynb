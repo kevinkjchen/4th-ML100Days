{
 "cells": [
  {
   "cell_type": "markdown",
   "metadata": {
    "colab_type": "text",
    "id": "cj4tE8e8iUtO"
   },
   "source": [
    "#   \n",
    "\n",
    "# 作業目標:\n",
    "\n",
    "    1. 藉由固定的 dataset, 來驗證不同loss function\n",
    "    2. Dataset 的特性跟我們選用的loss function 對accrancy 的影響\n",
    "    \n",
    "    \n",
    "# 作業重點: \n",
    "    請分別選用 \"MSE\", \"binary _crossentropy\"\n",
    "    查看Train/test accurancy and loss rate\n",
    "    "
   ]
  },
  {
   "cell_type": "markdown",
   "metadata": {
    "colab_type": "text",
    "id": "R51J4KyyiUsL"
   },
   "source": [
    "# 導入必要的函數"
   ]
  },
  {
   "cell_type": "code",
   "execution_count": 1,
   "metadata": {
    "colab": {},
    "colab_type": "code",
    "id": "Qd68OQjciUsM"
   },
   "outputs": [],
   "source": [
    "from tensorflow.keras.datasets import cifar10\n",
    "import numpy as np\n",
    "np.random.seed(10)"
   ]
  },
  {
   "cell_type": "markdown",
   "metadata": {
    "colab_type": "text",
    "id": "GxKuzQLQiUsP"
   },
   "source": [
    "# 資料準備"
   ]
  },
  {
   "cell_type": "code",
   "execution_count": 2,
   "metadata": {
    "colab": {},
    "colab_type": "code",
    "id": "MIbFZdTCiUsQ"
   },
   "outputs": [],
   "source": [
    "#取得Keras Dataset\n",
    "(x_img_train,y_label_train),(x_img_test,y_label_test)=cifar10.load_data()"
   ]
  },
  {
   "cell_type": "code",
   "execution_count": 3,
   "metadata": {
    "colab": {},
    "colab_type": "code",
    "id": "J8CJVjNOiUsS"
   },
   "outputs": [
    {
     "name": "stdout",
     "output_type": "stream",
     "text": [
      "train data: images: (50000, 32, 32, 3)  labels: (50000, 1)\n",
      "test  data: images: (10000, 32, 32, 3)  labels: (10000, 1)\n"
     ]
    }
   ],
   "source": [
    "#確認 CIFAR10 Dataset 資料維度\n",
    "print(\"train data:\",'images:',x_img_train.shape,\n",
    "      \" labels:\",y_label_train.shape) \n",
    "print(\"test  data:\",'images:',x_img_test.shape ,\n",
    "      \" labels:\",y_label_test.shape) "
   ]
  },
  {
   "cell_type": "code",
   "execution_count": 4,
   "metadata": {
    "colab": {},
    "colab_type": "code",
    "id": "V3P6P4DXiUsV"
   },
   "outputs": [],
   "source": [
    "#資料正規化\n",
    "x_img_train_normalize = x_img_train.astype('float32') / 255.0\n",
    "x_img_test_normalize = x_img_test.astype('float32') / 255.0"
   ]
  },
  {
   "cell_type": "code",
   "execution_count": 5,
   "metadata": {
    "colab": {},
    "colab_type": "code",
    "id": "vsDyjKYliUsX"
   },
   "outputs": [
    {
     "data": {
      "text/plain": [
       "(10000, 10)"
      ]
     },
     "execution_count": 5,
     "metadata": {},
     "output_type": "execute_result"
    }
   ],
   "source": [
    "#針對Label 做 ONE HOT ENCODE\n",
    "from tensorflow.keras import utils as np_utils\n",
    "y_label_train_OneHot = np_utils.to_categorical(y_label_train)\n",
    "y_label_test_OneHot = np_utils.to_categorical(y_label_test)\n",
    "y_label_test_OneHot.shape"
   ]
  },
  {
   "cell_type": "markdown",
   "metadata": {
    "colab_type": "text",
    "id": "RutW2OtgiUsZ"
   },
   "source": [
    "# 建立模型"
   ]
  },
  {
   "cell_type": "code",
   "execution_count": 6,
   "metadata": {
    "colab": {},
    "colab_type": "code",
    "id": "aHz592aXiUsa"
   },
   "outputs": [],
   "source": [
    "from tensorflow.keras.models import Sequential\n",
    "from tensorflow.keras.layers import Dense, Dropout, Activation, Flatten\n",
    "from tensorflow.keras.layers import Conv2D, MaxPooling2D, ZeroPadding2D"
   ]
  },
  {
   "cell_type": "code",
   "execution_count": 7,
   "metadata": {
    "colab": {},
    "colab_type": "code",
    "id": "hslqrIp0iUse"
   },
   "outputs": [],
   "source": [
    "model = Sequential()"
   ]
  },
  {
   "cell_type": "code",
   "execution_count": 8,
   "metadata": {
    "colab": {},
    "colab_type": "code",
    "id": "Hqe35hs2iUsi"
   },
   "outputs": [],
   "source": [
    "#卷積層1"
   ]
  },
  {
   "cell_type": "code",
   "execution_count": 9,
   "metadata": {
    "colab": {},
    "colab_type": "code",
    "id": "ED7dqe1YiUsm"
   },
   "outputs": [],
   "source": [
    "model.add(Conv2D(filters=32,kernel_size=(3,3),\n",
    "                 input_shape=(32, 32,3), \n",
    "                 activation='relu', \n",
    "                 padding='same'))"
   ]
  },
  {
   "cell_type": "code",
   "execution_count": 10,
   "metadata": {
    "colab": {},
    "colab_type": "code",
    "id": "n-GRKmPViUso"
   },
   "outputs": [],
   "source": [
    "model.add(Dropout(rate=0.25))"
   ]
  },
  {
   "cell_type": "code",
   "execution_count": 11,
   "metadata": {
    "colab": {},
    "colab_type": "code",
    "id": "GlWnnD1uiUsw"
   },
   "outputs": [],
   "source": [
    "model.add(MaxPooling2D(pool_size=(2, 2)))"
   ]
  },
  {
   "cell_type": "code",
   "execution_count": 12,
   "metadata": {
    "colab": {},
    "colab_type": "code",
    "id": "nawlkt55iUsy"
   },
   "outputs": [],
   "source": [
    "#卷積層2與池化層2"
   ]
  },
  {
   "cell_type": "code",
   "execution_count": 13,
   "metadata": {
    "colab": {},
    "colab_type": "code",
    "id": "xxyETiKNiUs1"
   },
   "outputs": [],
   "source": [
    "model.add(Conv2D(filters=64, kernel_size=(3, 3), \n",
    "                 activation='relu', padding='same'))"
   ]
  },
  {
   "cell_type": "code",
   "execution_count": 14,
   "metadata": {
    "colab": {},
    "colab_type": "code",
    "id": "RqcKWtqGiUs2"
   },
   "outputs": [],
   "source": [
    "model.add(Dropout(0.25))"
   ]
  },
  {
   "cell_type": "code",
   "execution_count": 15,
   "metadata": {
    "colab": {},
    "colab_type": "code",
    "id": "BUOOzlqfiUs4"
   },
   "outputs": [],
   "source": [
    "model.add(MaxPooling2D(pool_size=(2, 2)))"
   ]
  },
  {
   "cell_type": "code",
   "execution_count": 16,
   "metadata": {
    "colab": {},
    "colab_type": "code",
    "id": "LpkppB2siUs7"
   },
   "outputs": [],
   "source": [
    "#建立神經網路(平坦層、隱藏層、輸出層)"
   ]
  },
  {
   "cell_type": "code",
   "execution_count": 17,
   "metadata": {
    "colab": {},
    "colab_type": "code",
    "id": "UQOfU54_iUs_"
   },
   "outputs": [],
   "source": [
    "model.add(Flatten())\n",
    "model.add(Dropout(rate=0.25))"
   ]
  },
  {
   "cell_type": "code",
   "execution_count": 18,
   "metadata": {
    "colab": {},
    "colab_type": "code",
    "id": "_NV-8sq4iUtD"
   },
   "outputs": [],
   "source": [
    "model.add(Dense(1024, activation='relu'))\n",
    "model.add(Dropout(rate=0.25))"
   ]
  },
  {
   "cell_type": "code",
   "execution_count": 19,
   "metadata": {
    "colab": {},
    "colab_type": "code",
    "id": "qVK77krOiUtF"
   },
   "outputs": [],
   "source": [
    "model.add(Dense(10, activation='softmax'))"
   ]
  },
  {
   "cell_type": "code",
   "execution_count": 20,
   "metadata": {
    "colab": {},
    "colab_type": "code",
    "id": "ZxzRIjR0iUtH"
   },
   "outputs": [
    {
     "name": "stdout",
     "output_type": "stream",
     "text": [
      "Model: \"sequential\"\n",
      "_________________________________________________________________\n",
      "Layer (type)                 Output Shape              Param #   \n",
      "=================================================================\n",
      "conv2d (Conv2D)              (None, 32, 32, 32)        896       \n",
      "_________________________________________________________________\n",
      "dropout (Dropout)            (None, 32, 32, 32)        0         \n",
      "_________________________________________________________________\n",
      "max_pooling2d (MaxPooling2D) (None, 16, 16, 32)        0         \n",
      "_________________________________________________________________\n",
      "conv2d_1 (Conv2D)            (None, 16, 16, 64)        18496     \n",
      "_________________________________________________________________\n",
      "dropout_1 (Dropout)          (None, 16, 16, 64)        0         \n",
      "_________________________________________________________________\n",
      "max_pooling2d_1 (MaxPooling2 (None, 8, 8, 64)          0         \n",
      "_________________________________________________________________\n",
      "flatten (Flatten)            (None, 4096)              0         \n",
      "_________________________________________________________________\n",
      "dropout_2 (Dropout)          (None, 4096)              0         \n",
      "_________________________________________________________________\n",
      "dense (Dense)                (None, 1024)              4195328   \n",
      "_________________________________________________________________\n",
      "dropout_3 (Dropout)          (None, 1024)              0         \n",
      "_________________________________________________________________\n",
      "dense_1 (Dense)              (None, 10)                10250     \n",
      "=================================================================\n",
      "Total params: 4,224,970\n",
      "Trainable params: 4,224,970\n",
      "Non-trainable params: 0\n",
      "_________________________________________________________________\n",
      "None\n"
     ]
    }
   ],
   "source": [
    "#檢查model 的STACK\n",
    "print(model.summary())"
   ]
  },
  {
   "cell_type": "markdown",
   "metadata": {
    "colab_type": "text",
    "id": "QJCtpJM0iUtJ"
   },
   "source": [
    "# 載入之前訓練的模型"
   ]
  },
  {
   "cell_type": "code",
   "execution_count": 21,
   "metadata": {
    "colab": {},
    "colab_type": "code",
    "id": "JU3A6NzQiUtK"
   },
   "outputs": [
    {
     "name": "stdout",
     "output_type": "stream",
     "text": [
      "載入模型失敗!開始訓練一個新模型\n"
     ]
    }
   ],
   "source": [
    "try:\n",
    "    model.load_weights(\"SaveModel/cifarCnnModel.h5\")\n",
    "    print(\"載入模型成功!繼續訓練模型\")\n",
    "except :    \n",
    "    print(\"載入模型失敗!開始訓練一個新模型\")"
   ]
  },
  {
   "cell_type": "markdown",
   "metadata": {
    "colab_type": "text",
    "id": "qBbCuziziUtM"
   },
   "source": [
    "# 訓練模型\n",
    "loss='categorical_crossentropy'"
   ]
  },
  {
   "cell_type": "code",
   "execution_count": 22,
   "metadata": {
    "colab": {},
    "colab_type": "code",
    "id": "Q6BiBcseiUtP"
   },
   "outputs": [
    {
     "data": {
      "text/plain": [
       "'\\n作業:\\n請分別選用 \"MSE\", \"binary _crossentropy\"\\n查看Train/test accurancy and loss rate\\n'"
      ]
     },
     "execution_count": 22,
     "metadata": {},
     "output_type": "execute_result"
    }
   ],
   "source": [
    "model.compile(loss='categorical_crossentropy', optimizer='sgd', metrics=['accuracy'])\n",
    "\n",
    "'''\n",
    "作業:\n",
    "請分別選用 \"MSE\", \"binary _crossentropy\"\n",
    "查看Train/test accurancy and loss rate\n",
    "'''"
   ]
  },
  {
   "cell_type": "code",
   "execution_count": 23,
   "metadata": {
    "colab": {},
    "colab_type": "code",
    "id": "4-GdDgmQiUtS"
   },
   "outputs": [
    {
     "name": "stdout",
     "output_type": "stream",
     "text": [
      "Epoch 1/12\n",
      "293/293 [==============================] - 53s 181ms/step - loss: 2.1281 - accuracy: 0.2197 - val_loss: 2.0294 - val_accuracy: 0.3145\n",
      "Epoch 2/12\n",
      "293/293 [==============================] - 57s 193ms/step - loss: 1.9044 - accuracy: 0.3202 - val_loss: 1.8836 - val_accuracy: 0.3682\n",
      "Epoch 3/12\n",
      "293/293 [==============================] - 58s 197ms/step - loss: 1.7738 - accuracy: 0.3706 - val_loss: 1.7833 - val_accuracy: 0.4167\n",
      "Epoch 4/12\n",
      "293/293 [==============================] - 59s 200ms/step - loss: 1.6779 - accuracy: 0.3998 - val_loss: 1.6954 - val_accuracy: 0.4349\n",
      "Epoch 5/12\n",
      "293/293 [==============================] - 60s 205ms/step - loss: 1.6072 - accuracy: 0.4244 - val_loss: 1.6332 - val_accuracy: 0.4591\n",
      "Epoch 6/12\n",
      "293/293 [==============================] - 61s 209ms/step - loss: 1.5541 - accuracy: 0.4430 - val_loss: 1.5817 - val_accuracy: 0.4767\n",
      "Epoch 7/12\n",
      "293/293 [==============================] - 71s 243ms/step - loss: 1.5097 - accuracy: 0.4590 - val_loss: 1.5673 - val_accuracy: 0.4694\n",
      "Epoch 8/12\n",
      "293/293 [==============================] - 67s 228ms/step - loss: 1.4718 - accuracy: 0.4725 - val_loss: 1.5146 - val_accuracy: 0.4922\n",
      "Epoch 9/12\n",
      "293/293 [==============================] - 67s 230ms/step - loss: 1.4392 - accuracy: 0.4841 - val_loss: 1.4750 - val_accuracy: 0.5206\n",
      "Epoch 10/12\n",
      "293/293 [==============================] - 66s 224ms/step - loss: 1.4037 - accuracy: 0.4973 - val_loss: 1.4486 - val_accuracy: 0.5221\n",
      "Epoch 11/12\n",
      "293/293 [==============================] - 63s 215ms/step - loss: 1.3780 - accuracy: 0.5084 - val_loss: 1.4232 - val_accuracy: 0.5349\n",
      "Epoch 12/12\n",
      "293/293 [==============================] - 66s 225ms/step - loss: 1.3515 - accuracy: 0.5195 - val_loss: 1.4175 - val_accuracy: 0.5474\n"
     ]
    }
   ],
   "source": [
    "#模型訓練, \"Train_History\" 把訓練過程所得到的數值存起來\n",
    "train_history=model.fit(x_img_train_normalize, y_label_train_OneHot,\n",
    "                        validation_split=0.25,\n",
    "                        epochs=12, batch_size=128, verbose=1)       "
   ]
  },
  {
   "cell_type": "markdown",
   "metadata": {},
   "source": [
    "# 訓練模型\n",
    "loss='mean_squared_error'"
   ]
  },
  {
   "cell_type": "code",
   "execution_count": 22,
   "metadata": {},
   "outputs": [],
   "source": [
    "model.compile(loss='mean_squared_error', optimizer='sgd', metrics=['accuracy'])\n"
   ]
  },
  {
   "cell_type": "code",
   "execution_count": 23,
   "metadata": {},
   "outputs": [
    {
     "name": "stdout",
     "output_type": "stream",
     "text": [
      "Epoch 1/12\n",
      "293/293 [==============================] - 55s 189ms/step - loss: 0.0903 - accuracy: 0.1027 - val_loss: 0.0899 - val_accuracy: 0.1257\n",
      "Epoch 2/12\n",
      "293/293 [==============================] - 57s 193ms/step - loss: 0.0901 - accuracy: 0.1083 - val_loss: 0.0899 - val_accuracy: 0.1282\n",
      "Epoch 3/12\n",
      "293/293 [==============================] - 58s 196ms/step - loss: 0.0900 - accuracy: 0.1121 - val_loss: 0.0898 - val_accuracy: 0.1367\n",
      "Epoch 4/12\n",
      "293/293 [==============================] - 59s 201ms/step - loss: 0.0899 - accuracy: 0.1200 - val_loss: 0.0898 - val_accuracy: 0.1398\n",
      "Epoch 5/12\n",
      "293/293 [==============================] - 59s 202ms/step - loss: 0.0898 - accuracy: 0.1219 - val_loss: 0.0897 - val_accuracy: 0.1446\n",
      "Epoch 6/12\n",
      "293/293 [==============================] - 62s 210ms/step - loss: 0.0897 - accuracy: 0.1277 - val_loss: 0.0896 - val_accuracy: 0.1467\n",
      "Epoch 7/12\n",
      "293/293 [==============================] - 63s 216ms/step - loss: 0.0896 - accuracy: 0.1298 - val_loss: 0.0896 - val_accuracy: 0.1522\n",
      "Epoch 8/12\n",
      "293/293 [==============================] - 62s 212ms/step - loss: 0.0895 - accuracy: 0.1359 - val_loss: 0.0895 - val_accuracy: 0.1565\n",
      "Epoch 9/12\n",
      "293/293 [==============================] - 62s 212ms/step - loss: 0.0894 - accuracy: 0.1419 - val_loss: 0.0895 - val_accuracy: 0.1608\n",
      "Epoch 10/12\n",
      "293/293 [==============================] - 64s 219ms/step - loss: 0.0893 - accuracy: 0.1438 - val_loss: 0.0894 - val_accuracy: 0.1674\n",
      "Epoch 11/12\n",
      "293/293 [==============================] - 63s 215ms/step - loss: 0.0892 - accuracy: 0.1493 - val_loss: 0.0893 - val_accuracy: 0.1734\n",
      "Epoch 12/12\n",
      "293/293 [==============================] - 63s 215ms/step - loss: 0.0891 - accuracy: 0.1541 - val_loss: 0.0892 - val_accuracy: 0.1830\n"
     ]
    }
   ],
   "source": [
    "#模型訓練, \"Train_History\" 把訓練過程所得到的數值存起來\n",
    "train_history=model.fit(x_img_train_normalize, y_label_train_OneHot,\n",
    "                        validation_split=0.25,\n",
    "                        epochs=12, batch_size=128, verbose=1)     "
   ]
  },
  {
   "cell_type": "markdown",
   "metadata": {},
   "source": [
    "# 訓練模型\n",
    "loss='binary_crossentropy'"
   ]
  },
  {
   "cell_type": "code",
   "execution_count": 22,
   "metadata": {},
   "outputs": [],
   "source": [
    "model.compile(loss='binary_crossentropy', optimizer='sgd', metrics=['accuracy'])"
   ]
  },
  {
   "cell_type": "code",
   "execution_count": 23,
   "metadata": {},
   "outputs": [
    {
     "name": "stdout",
     "output_type": "stream",
     "text": [
      "Epoch 1/12\n",
      "293/293 [==============================] - 55s 188ms/step - loss: 0.3245 - accuracy: 0.1107 - val_loss: 0.3233 - val_accuracy: 0.1316\n",
      "Epoch 2/12\n",
      "293/293 [==============================] - 59s 201ms/step - loss: 0.3221 - accuracy: 0.1339 - val_loss: 0.3216 - val_accuracy: 0.1641\n",
      "Epoch 3/12\n",
      "293/293 [==============================] - 61s 208ms/step - loss: 0.3194 - accuracy: 0.1599 - val_loss: 0.3195 - val_accuracy: 0.2030\n",
      "Epoch 4/12\n",
      "293/293 [==============================] - 62s 210ms/step - loss: 0.3161 - accuracy: 0.1799 - val_loss: 0.3165 - val_accuracy: 0.2388\n",
      "Epoch 5/12\n",
      "293/293 [==============================] - 65s 222ms/step - loss: 0.3112 - accuracy: 0.2056 - val_loss: 0.3124 - val_accuracy: 0.2683\n",
      "Epoch 6/12\n",
      "293/293 [==============================] - 62s 213ms/step - loss: 0.3054 - accuracy: 0.2315 - val_loss: 0.3075 - val_accuracy: 0.2799\n",
      "Epoch 7/12\n",
      "293/293 [==============================] - 63s 214ms/step - loss: 0.3003 - accuracy: 0.2441 - val_loss: 0.3028 - val_accuracy: 0.2891\n",
      "Epoch 8/12\n",
      "293/293 [==============================] - 63s 214ms/step - loss: 0.2960 - accuracy: 0.2567 - val_loss: 0.2992 - val_accuracy: 0.2966\n",
      "Epoch 9/12\n",
      "293/293 [==============================] - 64s 218ms/step - loss: 0.2931 - accuracy: 0.2701 - val_loss: 0.2967 - val_accuracy: 0.3030\n",
      "Epoch 10/12\n",
      "293/293 [==============================] - 63s 216ms/step - loss: 0.2906 - accuracy: 0.2774 - val_loss: 0.2946 - val_accuracy: 0.3094\n",
      "Epoch 11/12\n",
      "293/293 [==============================] - 65s 222ms/step - loss: 0.2887 - accuracy: 0.2866 - val_loss: 0.2925 - val_accuracy: 0.3156\n",
      "Epoch 12/12\n",
      "293/293 [==============================] - 64s 219ms/step - loss: 0.2870 - accuracy: 0.2906 - val_loss: 0.2917 - val_accuracy: 0.3210\n"
     ]
    }
   ],
   "source": [
    "#模型訓練, \"Train_History\" 把訓練過程所得到的數值存起來\n",
    "train_history=model.fit(x_img_train_normalize, y_label_train_OneHot,\n",
    "                        validation_split=0.25,\n",
    "                        epochs=12, batch_size=128, verbose=1)     "
   ]
  },
  {
   "cell_type": "code",
   "execution_count": null,
   "metadata": {},
   "outputs": [],
   "source": []
  }
 ],
 "metadata": {
  "colab": {
   "name": "Day71-使用損失函數_HW.ipynb",
   "provenance": [],
   "version": "0.3.2"
  },
  "kernelspec": {
   "display_name": "Python 3",
   "language": "python",
   "name": "python3"
  },
  "language_info": {
   "codemirror_mode": {
    "name": "ipython",
    "version": 3
   },
   "file_extension": ".py",
   "mimetype": "text/x-python",
   "name": "python",
   "nbconvert_exporter": "python",
   "pygments_lexer": "ipython3",
   "version": "3.7.7"
  }
 },
 "nbformat": 4,
 "nbformat_minor": 1
}
