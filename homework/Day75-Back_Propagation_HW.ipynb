{
 "cells": [
  {
   "cell_type": "markdown",
   "metadata": {},
   "source": [
    "# 作業目標:\n",
    "\n",
    "    通過建立多層的神經網路, 了解權值矩陣更新"
   ]
  },
  {
   "cell_type": "markdown",
   "metadata": {},
   "source": [
    "# 作業重點: \n",
    "\n",
    "3  層神經網路\n",
    "\n",
    "通過增加更多的中間層，以對更多關係的組合進行建模\n",
    "\n",
    "syn1 權值矩陣將隱層的組合輸出映射到最終結果，\n",
    "\n",
    "而在更新 syn1 的同時，還需要更新 syn0 權值矩陣，\n",
    "\n",
    "以從輸入資料中更好地產生這些組合"
   ]
  },
  {
   "cell_type": "code",
   "execution_count": 6,
   "metadata": {},
   "outputs": [
    {
     "data": {
      "text/plain": [
       "((4, 1),\n",
       " array([[0.1],\n",
       "        [0.3],\n",
       "        [0.5],\n",
       "        [0.7]]))"
      ]
     },
     "execution_count": 6,
     "metadata": {},
     "output_type": "execute_result"
    }
   ],
   "source": [
    "import numpy as np\n",
    " \n",
    "# Sigmoid 函數可以將任何值都映射到一個位於 0 到  1 範圍內的值。通過它，我們可以將實數轉化為概率值\n",
    "def nonlin(x,deriv=False):\n",
    "    if(deriv==True):\n",
    "        return x*(1-x)\n",
    "    return 1/(1+np.exp(-x))\n",
    "\n",
    "X = np.array([  [0,0,1],\n",
    "                [0,1,1],\n",
    "                [1,0,1],\n",
    "                [1,1,1] ])  \n",
    "#        \n",
    "# define y for output dataset \n",
    "#\n",
    "y = np.array([[0.1, 0.3, 0.5, 0.7]]).T\n",
    "y.shape, y"
   ]
  },
  {
   "cell_type": "code",
   "execution_count": 2,
   "metadata": {},
   "outputs": [
    {
     "name": "stdout",
     "output_type": "stream",
     "text": [
      "[[-0.16595599  0.44064899 -0.99977125 -0.39533485 -0.70648822]\n",
      " [-0.81532281 -0.62747958 -0.30887855 -0.20646505  0.07763347]\n",
      " [-0.16161097  0.370439   -0.5910955   0.75623487 -0.94522481]] \n",
      " [[ 0.34093502]\n",
      " [-0.1653904 ]\n",
      " [ 0.11737966]\n",
      " [-0.71922612]\n",
      " [-0.60379702]]\n"
     ]
    }
   ],
   "source": [
    "\n",
    "# seed random numbers to make calculation\n",
    "# deterministic (just a good practice)\n",
    "np.random.seed(1)\n",
    "#亂數設定產生種子得到的權重初始化集仍是隨機分佈的，\n",
    "#但每次開始訓練時，得到的權重初始集分佈都是完全一致的。\n",
    " \n",
    "#    \n",
    "# initialize weights randomly with mean 0\n",
    "#\n",
    "syn0 = 2*np.random.random((3,5)) - 1\n",
    "\n",
    "#\n",
    "# define syn1\n",
    "#\n",
    "syn1 = 2*np.random.random((5,1)) - 1\n",
    "\n",
    "iter = 0\n",
    "#該神經網路權重矩陣的初始化操作。\n",
    "#用 “syn0” 來代指 (即“輸入層-第一層隱層”間權重矩陣）\n",
    "#用 “syn1” 來代指 (即“輸入層-第二層隱層”間權重矩陣）\n",
    "\n",
    "print(syn0, '\\n', syn1)"
   ]
  },
  {
   "cell_type": "markdown",
   "metadata": {},
   "source": [
    "神經網路訓練\n",
    "for 迴圈反覆運算式地多次執行訓練代碼，使得我們的網路能更好地擬合訓練集"
   ]
  },
  {
   "cell_type": "code",
   "execution_count": 3,
   "metadata": {},
   "outputs": [
    {
     "name": "stdout",
     "output_type": "stream",
     "text": [
      "Output After Training:\n",
      "l1 output:\n",
      "[[0.51114329 0.57275427 0.4277172  0.84082215 0.38627483]\n",
      " [0.53672228 0.60070311 0.31025167 0.55752452 0.30935191]\n",
      " [0.6868807  0.83624515 0.19134034 0.60895943 0.14807581]\n",
      " [0.70850822 0.85142853 0.12465193 0.27085356 0.11007983]]\n",
      "l2 output:\n",
      "[[0.19999984]\n",
      " [0.4000001 ]\n",
      " [0.60000014]\n",
      " [0.79999977]]\n",
      "syn0 weights:\n",
      "[[ 0.74099579  1.33745385 -1.15015334 -1.22141774 -1.28677503]\n",
      " [ 0.10257354  0.11529811 -0.50777195 -1.43323663 -0.3401528 ]\n",
      " [ 0.04458055  0.29309747 -0.29117105  1.66435808 -0.46299812]]\n",
      "syn1 weights:\n",
      "[[ 0.9999082 ]\n",
      " [ 1.88364582]\n",
      " [-0.97390036]\n",
      " [-2.40357174]\n",
      " [-1.39467439]]\n"
     ]
    }
   ],
   "source": [
    "for iter in range(10000):\n",
    "    # forward propagation\n",
    "    l0 = X\n",
    "    l1 = nonlin(np.dot(l0,syn0))\n",
    "    \n",
    "    '''\n",
    "    新增\n",
    "    l2_error 該值說明了神經網路預測時“丟失”的數目。\n",
    "    l2_delta 該值為經確信度加權後的神經網路的誤差，除了確信誤差很小時，它近似等於預測誤差。\n",
    "    '''\n",
    "    \n",
    "    '''\n",
    "              l0     w0            l1 (5 neurons)         w1            l2 (1 neuron)\n",
    "              -----  ------      --------------------     ------       ---------------------\n",
    "              in     syn0               act               syn1                act      out\n",
    "    forward   (4x3)  (3x5)   =>  (4x5)  sigmoid (4x5)     (5x1)   =>   (4x1)  sigmoid  (4x1)\n",
    "    backward                                              dw1     <=   d_l2            l2_err   \n",
    "                                                                  l1.T\n",
    "                     dw0     <=  d_l1           l1_err <=              d_l2\n",
    "                             l0.T                      syn1.T\n",
    "    '''\n",
    "    # add layer2\n",
    "    l2 = nonlin(np.dot(l1, syn1))                   # (4x5)(5x1) => (4x1) forward\n",
    "    # how much did we miss?    \n",
    "    l2_error = y - l2                               # (4x1)\n",
    "    # multiply how much we missed by the \n",
    "    # slope of the sigmoid at the values in l2    \n",
    "    l2_delta = l2_error * nonlin(l2, True)          # (4x1)\n",
    "    # syn1 update weights\n",
    "    dw1 = np.dot(l1.T, l2_delta)                  # (5x4)(4x1) => (5x1) backward\n",
    "    syn1 += dw1\n",
    "\n",
    "    # how much did we miss?\n",
    "    l1_error = np.dot(l2_delta, syn1.T)             # (4x1)(1x5) => (4x5)\n",
    "    # multiply how much we missed by the \n",
    "    # slope of the sigmoid at the values in l1\n",
    "    l1_delta = l1_error * nonlin(l1,True)           # (4x5)\n",
    "    # syn0 update weights\n",
    "    dw0 = np.dot(l0.T,l1_delta)                   # (3x4)(4x5) => (3x5)\n",
    "    syn0 += dw0\n",
    "    \n",
    "print(\"Output After Training:\")\n",
    "print(\"l1 output:\")\n",
    "print(l1)\n",
    "print(\"l2 output:\")\n",
    "print(l2)\n",
    "print(\"syn0 weights:\")\n",
    "print(syn0)\n",
    "print(\"syn1 weights:\")\n",
    "print(syn1)"
   ]
  },
  {
   "cell_type": "code",
   "execution_count": null,
   "metadata": {},
   "outputs": [],
   "source": []
  }
 ],
 "metadata": {
  "kernelspec": {
   "display_name": "Python 3",
   "language": "python",
   "name": "python3"
  },
  "language_info": {
   "codemirror_mode": {
    "name": "ipython",
    "version": 3
   },
   "file_extension": ".py",
   "mimetype": "text/x-python",
   "name": "python",
   "nbconvert_exporter": "python",
   "pygments_lexer": "ipython3",
   "version": "3.7.7"
  }
 },
 "nbformat": 4,
 "nbformat_minor": 2
}
