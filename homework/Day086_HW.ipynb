{
 "cells": [
  {
   "cell_type": "markdown",
   "metadata": {},
   "source": [
    "## Work\n",
    "1. 試比較 save_best_only 與否的差異\n",
    "2. 請僅存入將 save_weights_only 設定為 True, 並嘗試 reset ipynb 並將模型與權重重新建回並預測 x_test"
   ]
  },
  {
   "cell_type": "code",
   "execution_count": 1,
   "metadata": {},
   "outputs": [],
   "source": [
    "import os\n",
    "from tensorflow import keras\n",
    "from tensorflow.keras.regularizers import l1, l2, l1_l2\n",
    "from tensorflow.keras.layers import Dropout\n",
    "from tensorflow.keras.layers import BatchNormalization\n",
    "\n",
    "# Disable GPU\n",
    "# os.environ[\"CUDA_VISIBLE_DEVICES\"] = \"\"\n",
    "# Enable GPU 0\n",
    "os.environ[\"CUDA_VISIBLE_DEVICES\"] = \"0\""
   ]
  },
  {
   "cell_type": "code",
   "execution_count": 2,
   "metadata": {},
   "outputs": [],
   "source": [
    "train, test = keras.datasets.cifar10.load_data()"
   ]
  },
  {
   "cell_type": "code",
   "execution_count": 3,
   "metadata": {},
   "outputs": [],
   "source": [
    "## 資料前處理\n",
    "def preproc_x(x, flatten=True):\n",
    "    x = x / 255.\n",
    "    if flatten:\n",
    "        x = x.reshape((len(x), -1))\n",
    "    return x\n",
    "\n",
    "def preproc_y(y, num_classes=10):\n",
    "    if y.shape[-1] == 1:\n",
    "        y = keras.utils.to_categorical(y, num_classes)\n",
    "    return y    "
   ]
  },
  {
   "cell_type": "code",
   "execution_count": 4,
   "metadata": {},
   "outputs": [],
   "source": [
    "x_train, y_train = train\n",
    "x_test, y_test = test\n",
    "\n",
    "# Preproc the inputs\n",
    "x_train = preproc_x(x_train)\n",
    "x_test = preproc_x(x_test)\n",
    "\n",
    "# Preprc the outputs\n",
    "y_train = preproc_y(y_train)\n",
    "y_test = preproc_y(y_test)"
   ]
  },
  {
   "cell_type": "code",
   "execution_count": 5,
   "metadata": {},
   "outputs": [],
   "source": [
    "\n",
    "def build_mlp(input_shape, output_units=10, num_neurons=[512, 256, 128], l1_p=1e-8, l2_p=1e-12, drp_ratio=0., BN=True):\n",
    "    \"\"\"Code Here\n",
    "    建立你的神經網路\n",
    "    \"\"\"\n",
    "    input_layer = keras.layers.Input(input_shape)\n",
    "    \n",
    "    for i, n_units in enumerate(num_neurons):\n",
    "        if i == 0:\n",
    "            x = keras.layers.Dense(units=n_units, name=\"hidden_layer\"+str(i+1), \n",
    "                                   kernel_regularizer=l1_l2(l1=l1_p, l2=l2_p))(input_layer)\n",
    "            if BN == True:\n",
    "                x = BatchNormalization()(x)\n",
    "            x = keras.layers.ReLU()(x)\n",
    "            x = Dropout(drp_ratio)(x)\n",
    "        else:\n",
    "            x = keras.layers.Dense(units=n_units, name=\"hidden_layer\"+str(i+1),\n",
    "                                  kernel_regularizer=l1_l2(l1=l1_p, l2=l2_p))(x)\n",
    "            if BN == True:\n",
    "                x = BatchNormalization()(x)\n",
    "            x = keras.layers.ReLU()(x)\n",
    "            x = Dropout(drp_ratio)(x)\n",
    "    \n",
    "    out = keras.layers.Dense(units=output_units, activation=\"softmax\", name=\"output\")(x)\n",
    "    \n",
    "    model = keras.models.Model(inputs=[input_layer], outputs=[out])\n",
    "    return model"
   ]
  },
  {
   "cell_type": "code",
   "execution_count": 6,
   "metadata": {},
   "outputs": [],
   "source": [
    "\"\"\"Code Here\n",
    "設定超參數\n",
    "\"\"\"\n",
    "LEARNING_RATE = 1e-3\n",
    "EPOCHS = 50\n",
    "BATCH_SIZE = 1024\n",
    "MOMENTUM = 0.95"
   ]
  },
  {
   "cell_type": "code",
   "execution_count": 8,
   "metadata": {},
   "outputs": [
    {
     "name": "stdout",
     "output_type": "stream",
     "text": [
      "Model: \"model_1\"\n",
      "_________________________________________________________________\n",
      "Layer (type)                 Output Shape              Param #   \n",
      "=================================================================\n",
      "input_2 (InputLayer)         [(None, 3072)]            0         \n",
      "_________________________________________________________________\n",
      "hidden_layer1 (Dense)        (None, 512)               1573376   \n",
      "_________________________________________________________________\n",
      "batch_normalization_3 (Batch (None, 512)               2048      \n",
      "_________________________________________________________________\n",
      "re_lu_3 (ReLU)               (None, 512)               0         \n",
      "_________________________________________________________________\n",
      "dropout_3 (Dropout)          (None, 512)               0         \n",
      "_________________________________________________________________\n",
      "hidden_layer2 (Dense)        (None, 256)               131328    \n",
      "_________________________________________________________________\n",
      "batch_normalization_4 (Batch (None, 256)               1024      \n",
      "_________________________________________________________________\n",
      "re_lu_4 (ReLU)               (None, 256)               0         \n",
      "_________________________________________________________________\n",
      "dropout_4 (Dropout)          (None, 256)               0         \n",
      "_________________________________________________________________\n",
      "hidden_layer3 (Dense)        (None, 128)               32896     \n",
      "_________________________________________________________________\n",
      "batch_normalization_5 (Batch (None, 128)               512       \n",
      "_________________________________________________________________\n",
      "re_lu_5 (ReLU)               (None, 128)               0         \n",
      "_________________________________________________________________\n",
      "dropout_5 (Dropout)          (None, 128)               0         \n",
      "_________________________________________________________________\n",
      "output (Dense)               (None, 10)                1290      \n",
      "=================================================================\n",
      "Total params: 1,742,474\n",
      "Trainable params: 1,740,682\n",
      "Non-trainable params: 1,792\n",
      "_________________________________________________________________\n",
      "Epoch 1/50\n",
      "49/49 [==============================] - 2s 42ms/step - loss: 2.1374 - accuracy: 0.2497 - val_loss: 2.1406 - val_accuracy: 0.2067\n",
      "Epoch 2/50\n",
      "49/49 [==============================] - 2s 38ms/step - loss: 1.7657 - accuracy: 0.3819 - val_loss: 1.9905 - val_accuracy: 0.3115\n",
      "Epoch 3/50\n",
      "49/49 [==============================] - 2s 38ms/step - loss: 1.6535 - accuracy: 0.4239 - val_loss: 1.8714 - val_accuracy: 0.3571\n",
      "Epoch 4/50\n",
      "49/49 [==============================] - 2s 38ms/step - loss: 1.5844 - accuracy: 0.4498 - val_loss: 1.7541 - val_accuracy: 0.3991\n",
      "Epoch 5/50\n",
      "49/49 [==============================] - 2s 39ms/step - loss: 1.5314 - accuracy: 0.4683 - val_loss: 1.6805 - val_accuracy: 0.4206\n",
      "Epoch 6/50\n",
      "49/49 [==============================] - 2s 41ms/step - loss: 1.4881 - accuracy: 0.4846 - val_loss: 1.6265 - val_accuracy: 0.4326\n",
      "Epoch 7/50\n",
      "49/49 [==============================] - 2s 40ms/step - loss: 1.4492 - accuracy: 0.4982 - val_loss: 1.5718 - val_accuracy: 0.4516\n",
      "Epoch 8/50\n",
      "49/49 [==============================] - 2s 40ms/step - loss: 1.4150 - accuracy: 0.5092 - val_loss: 1.5406 - val_accuracy: 0.4614\n",
      "Epoch 9/50\n",
      "49/49 [==============================] - 2s 41ms/step - loss: 1.3831 - accuracy: 0.5235 - val_loss: 1.5238 - val_accuracy: 0.4648\n",
      "Epoch 10/50\n",
      "49/49 [==============================] - 2s 40ms/step - loss: 1.3536 - accuracy: 0.5327 - val_loss: 1.4972 - val_accuracy: 0.4748\n",
      "Epoch 11/50\n",
      "49/49 [==============================] - 2s 38ms/step - loss: 1.3263 - accuracy: 0.5429 - val_loss: 1.4865 - val_accuracy: 0.4786\n",
      "Epoch 12/50\n",
      "49/49 [==============================] - 2s 39ms/step - loss: 1.3005 - accuracy: 0.5527 - val_loss: 1.4755 - val_accuracy: 0.4793\n",
      "Epoch 13/50\n",
      "49/49 [==============================] - 2s 38ms/step - loss: 1.2753 - accuracy: 0.5635 - val_loss: 1.4656 - val_accuracy: 0.4849\n",
      "Epoch 14/50\n",
      "49/49 [==============================] - 2s 39ms/step - loss: 1.2510 - accuracy: 0.5719 - val_loss: 1.4520 - val_accuracy: 0.4869\n",
      "Epoch 15/50\n",
      "49/49 [==============================] - 2s 39ms/step - loss: 1.2280 - accuracy: 0.5808 - val_loss: 1.4493 - val_accuracy: 0.4847\n",
      "Epoch 16/50\n",
      "49/49 [==============================] - 2s 39ms/step - loss: 1.2052 - accuracy: 0.5891 - val_loss: 1.4402 - val_accuracy: 0.4918\n",
      "Epoch 17/50\n",
      "49/49 [==============================] - 2s 38ms/step - loss: 1.1825 - accuracy: 0.5983 - val_loss: 1.4393 - val_accuracy: 0.4892\n",
      "Epoch 18/50\n",
      "49/49 [==============================] - 2s 39ms/step - loss: 1.1610 - accuracy: 0.6069 - val_loss: 1.4352 - val_accuracy: 0.4884\n",
      "Epoch 19/50\n",
      "49/49 [==============================] - 2s 41ms/step - loss: 1.1395 - accuracy: 0.6142 - val_loss: 1.4284 - val_accuracy: 0.4983\n",
      "Epoch 20/50\n",
      "49/49 [==============================] - 2s 40ms/step - loss: 1.1188 - accuracy: 0.6235 - val_loss: 1.4215 - val_accuracy: 0.4957\n",
      "Epoch 21/50\n",
      "49/49 [==============================] - 2s 40ms/step - loss: 1.0971 - accuracy: 0.6312 - val_loss: 1.4150 - val_accuracy: 0.4977\n",
      "Epoch 22/50\n",
      "49/49 [==============================] - 2s 39ms/step - loss: 1.0762 - accuracy: 0.6391 - val_loss: 1.4062 - val_accuracy: 0.5016\n",
      "Epoch 23/50\n",
      "49/49 [==============================] - 2s 40ms/step - loss: 1.0549 - accuracy: 0.6480 - val_loss: 1.4177 - val_accuracy: 0.5011\n",
      "Epoch 24/50\n",
      "49/49 [==============================] - 2s 40ms/step - loss: 1.0351 - accuracy: 0.6571 - val_loss: 1.4127 - val_accuracy: 0.5008\n",
      "Epoch 25/50\n",
      "49/49 [==============================] - 2s 41ms/step - loss: 1.0142 - accuracy: 0.6630 - val_loss: 1.3997 - val_accuracy: 0.5015\n",
      "Epoch 26/50\n",
      "49/49 [==============================] - 2s 39ms/step - loss: 0.9938 - accuracy: 0.6719 - val_loss: 1.4038 - val_accuracy: 0.5031\n",
      "Epoch 27/50\n",
      "49/49 [==============================] - 2s 40ms/step - loss: 0.9732 - accuracy: 0.6799 - val_loss: 1.4027 - val_accuracy: 0.5050\n",
      "Epoch 28/50\n",
      "49/49 [==============================] - 2s 42ms/step - loss: 0.9537 - accuracy: 0.6894 - val_loss: 1.4048 - val_accuracy: 0.5000\n",
      "Epoch 29/50\n",
      "49/49 [==============================] - 2s 40ms/step - loss: 0.9339 - accuracy: 0.6961 - val_loss: 1.4130 - val_accuracy: 0.5048\n",
      "Epoch 30/50\n",
      "49/49 [==============================] - 2s 40ms/step - loss: 0.9149 - accuracy: 0.7038 - val_loss: 1.4090 - val_accuracy: 0.5068\n",
      "Epoch 31/50\n",
      "49/49 [==============================] - 2s 39ms/step - loss: 0.8949 - accuracy: 0.7117 - val_loss: 1.4091 - val_accuracy: 0.5016\n",
      "Epoch 32/50\n",
      "49/49 [==============================] - 2s 41ms/step - loss: 0.8749 - accuracy: 0.7204 - val_loss: 1.4146 - val_accuracy: 0.5051\n",
      "Epoch 33/50\n",
      "49/49 [==============================] - 2s 41ms/step - loss: 0.8550 - accuracy: 0.7285 - val_loss: 1.4137 - val_accuracy: 0.5068\n",
      "Epoch 34/50\n",
      "49/49 [==============================] - 2s 40ms/step - loss: 0.8351 - accuracy: 0.7355 - val_loss: 1.4131 - val_accuracy: 0.5039\n",
      "Epoch 35/50\n",
      "49/49 [==============================] - 2s 39ms/step - loss: 0.8161 - accuracy: 0.7431 - val_loss: 1.4226 - val_accuracy: 0.5057\n",
      "Epoch 36/50\n",
      "49/49 [==============================] - 2s 39ms/step - loss: 0.7972 - accuracy: 0.7503 - val_loss: 1.4375 - val_accuracy: 0.4999\n",
      "Epoch 37/50\n",
      "49/49 [==============================] - 2s 41ms/step - loss: 0.7777 - accuracy: 0.7580 - val_loss: 1.4340 - val_accuracy: 0.5002\n",
      "Epoch 38/50\n",
      "49/49 [==============================] - 2s 39ms/step - loss: 0.7580 - accuracy: 0.7668 - val_loss: 1.4355 - val_accuracy: 0.5045\n",
      "Epoch 39/50\n",
      "49/49 [==============================] - 2s 39ms/step - loss: 0.7391 - accuracy: 0.7734 - val_loss: 1.4385 - val_accuracy: 0.5058\n",
      "Epoch 40/50\n",
      "49/49 [==============================] - 2s 40ms/step - loss: 0.7211 - accuracy: 0.7809 - val_loss: 1.4518 - val_accuracy: 0.4985\n",
      "Epoch 41/50\n",
      "49/49 [==============================] - 2s 39ms/step - loss: 0.7017 - accuracy: 0.7886 - val_loss: 1.4660 - val_accuracy: 0.4969\n",
      "Epoch 42/50\n",
      "49/49 [==============================] - 2s 40ms/step - loss: 0.6833 - accuracy: 0.7959 - val_loss: 1.4589 - val_accuracy: 0.5040\n",
      "Epoch 43/50\n"
     ]
    },
    {
     "name": "stdout",
     "output_type": "stream",
     "text": [
      "49/49 [==============================] - 2s 39ms/step - loss: 0.6640 - accuracy: 0.8052 - val_loss: 1.4732 - val_accuracy: 0.5011\n",
      "Epoch 44/50\n",
      "49/49 [==============================] - 2s 38ms/step - loss: 0.6455 - accuracy: 0.8111 - val_loss: 1.4740 - val_accuracy: 0.5021\n",
      "Epoch 45/50\n",
      "49/49 [==============================] - 2s 39ms/step - loss: 0.6269 - accuracy: 0.8187 - val_loss: 1.4782 - val_accuracy: 0.5016\n",
      "Epoch 46/50\n",
      "49/49 [==============================] - 2s 40ms/step - loss: 0.6094 - accuracy: 0.8268 - val_loss: 1.4842 - val_accuracy: 0.5017\n",
      "Epoch 47/50\n",
      "49/49 [==============================] - 2s 39ms/step - loss: 0.5914 - accuracy: 0.8339 - val_loss: 1.5139 - val_accuracy: 0.4990\n",
      "Epoch 48/50\n",
      "49/49 [==============================] - 2s 39ms/step - loss: 0.5747 - accuracy: 0.8395 - val_loss: 1.5250 - val_accuracy: 0.4955\n",
      "Epoch 49/50\n",
      "49/49 [==============================] - 2s 39ms/step - loss: 0.5566 - accuracy: 0.8474 - val_loss: 1.5173 - val_accuracy: 0.4988\n",
      "Epoch 50/50\n",
      "49/49 [==============================] - 2s 39ms/step - loss: 0.5400 - accuracy: 0.8538 - val_loss: 1.5254 - val_accuracy: 0.5021\n",
      "313/313 [==============================] - 1s 4ms/step - loss: 1.5254 - accuracy: 0.5021\n"
     ]
    }
   ],
   "source": [
    "# 載入 Callbacks\n",
    "\"\"\"Code Here\n",
    "設定 callbacks: model checkpoint\n",
    "\"\"\"\n",
    "from tensorflow.keras.callbacks import ModelCheckpoint\n",
    "model_ckpt = ModelCheckpoint(filepath=\"./tmp.h5\", \n",
    "                             monitor=\"val_loss\", \n",
    "                             save_best_only=False)\n",
    "\n",
    "results = {}\n",
    "\"\"\"Code Here\n",
    "撰寫你的訓練流程並將結果用 dictionary 紀錄\n",
    "\"\"\"\n",
    "model = build_mlp(input_shape=x_train.shape[1:])\n",
    "model.summary()\n",
    "optimizer = keras.optimizers.SGD(lr=LEARNING_RATE, nesterov=True, momentum=MOMENTUM)\n",
    "model.compile(loss=\"categorical_crossentropy\", metrics=[\"accuracy\"], optimizer=optimizer)\n",
    "\n",
    "model.fit(x_train, y_train, \n",
    "          epochs=EPOCHS, \n",
    "          batch_size=BATCH_SIZE, \n",
    "          validation_data=(x_test, y_test), \n",
    "          shuffle=True,\n",
    "          callbacks=[model_ckpt]\n",
    "         )\n",
    "\n",
    "# Collect results\n",
    "train_loss = model.history.history[\"loss\"]\n",
    "valid_loss = model.history.history[\"val_loss\"]\n",
    "train_acc = model.history.history[\"accuracy\"]\n",
    "valid_acc = model.history.history[\"val_accuracy\"]\n",
    "\n",
    "# Load back\n",
    "model = keras.models.load_model(\"./tmp.h5\")\n",
    "loss_loadback, acc_loadback = model.evaluate(x_test, y_test)"
   ]
  },
  {
   "cell_type": "code",
   "execution_count": 9,
   "metadata": {
    "scrolled": true
   },
   "outputs": [
    {
     "data": {
      "image/png": "[encoded data removed]",
      "text/plain": [
       "<Figure size 432x288 with 1 Axes>"
      ]
     },
     "metadata": {
      "needs_background": "light"
     },
     "output_type": "display_data"
    },
    {
     "data": {
      "image/png": "[encoded data removed]",
      "text/plain": [
       "<Figure size 432x288 with 1 Axes>"
      ]
     },
     "metadata": {
      "needs_background": "light"
     },
     "output_type": "display_data"
    }
   ],
   "source": [
    "import matplotlib.pyplot as plt\n",
    "%matplotlib inline\n",
    "\"\"\"Code Here\n",
    "將結果繪出\n",
    "\"\"\"\n",
    "\n",
    "plt.plot(range(len(train_loss)), train_loss, label=\"train loss\")\n",
    "plt.plot(range(len(valid_loss)), valid_loss, label=\"valid loss\")\n",
    "plt.hlines(y=loss_loadback, xmin=0, xmax=len(train_loss), colors='r', linestyles='--')\n",
    "plt.legend()\n",
    "plt.title(\"Loss\")\n",
    "plt.show()\n",
    "\n",
    "plt.plot(range(len(train_acc)), train_acc, label=\"train accuracy\")\n",
    "plt.plot(range(len(valid_acc)), valid_acc, label=\"valid accuracy\")\n",
    "plt.hlines(y=acc_loadback, xmin=0, xmax=len(train_loss), colors='r', linestyles='--')\n",
    "plt.legend()\n",
    "plt.title(\"Accuracy\")\n",
    "plt.show()"
   ]
  },
  {
   "cell_type": "code",
   "execution_count": null,
   "metadata": {},
   "outputs": [],
   "source": []
  }
 ],
 "metadata": {
  "kernelspec": {
   "display_name": "Python 3",
   "language": "python",
   "name": "python3"
  },
  "language_info": {
   "codemirror_mode": {
    "name": "ipython",
    "version": 3
   },
   "file_extension": ".py",
   "mimetype": "text/x-python",
   "name": "python",
   "nbconvert_exporter": "python",
   "pygments_lexer": "ipython3",
   "version": "3.7.7"
  }
 },
 "nbformat": 4,
 "nbformat_minor": 2
}
