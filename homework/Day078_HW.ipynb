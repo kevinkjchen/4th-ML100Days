{
 "cells": [
  {
   "cell_type": "markdown",
   "metadata": {},
   "source": [
    "## Work\n",
    "1. 請嘗試將 preproc_x 替換成以每筆資料的 min/max 進行標準化至 -1 ~ 1 間，再進行訓練\n",
    "2. 請嘗試將 mlp 疊更深 (e.g 5~10 層)，進行訓練後觀察 learning curve 的走勢\n",
    "3. (optional) 請改用 GPU 進行訓練 (如果你有 GPU 的話)，比較使用 CPU 與 GPU 的訓練速度"
   ]
  },
  {
   "cell_type": "code",
   "execution_count": 1,
   "metadata": {},
   "outputs": [
    {
     "data": {
      "text/plain": [
       "'\\nYour code here (optional)\\n確認硬體資源\\n'"
      ]
     },
     "execution_count": 1,
     "metadata": {},
     "output_type": "execute_result"
    }
   ],
   "source": [
    "## \n",
    "\"\"\"\n",
    "Your code here (optional)\n",
    "確認硬體資源\n",
    "\"\"\"\n"
   ]
  },
  {
   "cell_type": "code",
   "execution_count": 2,
   "metadata": {},
   "outputs": [],
   "source": [
    "import os\n",
    "from tensorflow import keras\n",
    "\n",
    "# 請嘗試設定 GPU：os.environ\n",
    "os.environ[\"CUDA_VISIBLE_DEVICES\"] = \"\""
   ]
  },
  {
   "cell_type": "code",
   "execution_count": 3,
   "metadata": {},
   "outputs": [],
   "source": [
    "train, test = keras.datasets.cifar10.load_data()"
   ]
  },
  {
   "cell_type": "code",
   "execution_count": 4,
   "metadata": {},
   "outputs": [],
   "source": [
    "## 資料前處理\n",
    "\"\"\"\n",
    "Your code here\n",
    "\"\"\"\n",
    "def preproc_x(x, flatten=True):\n",
    "    x = x / 127. - 1\n",
    "    if flatten:\n",
    "        x = x.reshape((len(x), -1))\n",
    "    return x\n",
    "\n",
    "def preproc_y(y, num_classes=10):\n",
    "    if y.shape[-1] == 1:\n",
    "        y = keras.utils.to_categorical(y, num_classes)\n",
    "    return y    "
   ]
  },
  {
   "cell_type": "code",
   "execution_count": 5,
   "metadata": {},
   "outputs": [],
   "source": [
    "x_train, y_train = train\n",
    "x_test, y_test = test\n",
    "\n",
    "# Preproc the inputs\n",
    "x_train = preproc_x(x_train)\n",
    "x_test = preproc_x(x_test)\n",
    "\n",
    "# Preprc the outputs\n",
    "y_train = preproc_y(y_train)\n",
    "y_test = preproc_y(y_test)"
   ]
  },
  {
   "cell_type": "code",
   "execution_count": 6,
   "metadata": {},
   "outputs": [],
   "source": [
    "\"\"\"Code Here\n",
    "建立你的神經網路\n",
    "\"\"\"\n",
    "def build_mlp(input_shape, output_units=10, num_neurons=[1024, 512, 256, 128, 64]):\n",
    "    input_layer = keras.layers.Input(input_shape)\n",
    "    \n",
    "    for i, n_units in enumerate(num_neurons):\n",
    "        if i == 0:\n",
    "            x = keras.layers.Dense(units=n_units, activation=\"relu\", name=\"hidden_layer\"+str(i+1))(input_layer)\n",
    "        else:\n",
    "            x = keras.layers.Dense(units=n_units, activation=\"relu\", name=\"hidden_layer\"+str(i+1))(x)\n",
    "    \n",
    "    out = keras.layers.Dense(units=output_units, activation=\"softmax\", name=\"output\")(x)\n",
    "    \n",
    "    model = keras.models.Model(inputs=[input_layer], outputs=[out])\n",
    "    return model\n"
   ]
  },
  {
   "cell_type": "code",
   "execution_count": 7,
   "metadata": {},
   "outputs": [
    {
     "name": "stdout",
     "output_type": "stream",
     "text": [
      "Model: \"model\"\n",
      "_________________________________________________________________\n",
      "Layer (type)                 Output Shape              Param #   \n",
      "=================================================================\n",
      "input_1 (InputLayer)         [(None, 3072)]            0         \n",
      "_________________________________________________________________\n",
      "hidden_layer1 (Dense)        (None, 1024)              3146752   \n",
      "_________________________________________________________________\n",
      "hidden_layer2 (Dense)        (None, 512)               524800    \n",
      "_________________________________________________________________\n",
      "hidden_layer3 (Dense)        (None, 256)               131328    \n",
      "_________________________________________________________________\n",
      "hidden_layer4 (Dense)        (None, 128)               32896     \n",
      "_________________________________________________________________\n",
      "hidden_layer5 (Dense)        (None, 64)                8256      \n",
      "_________________________________________________________________\n",
      "output (Dense)               (None, 10)                650       \n",
      "=================================================================\n",
      "Total params: 3,844,682\n",
      "Trainable params: 3,844,682\n",
      "Non-trainable params: 0\n",
      "_________________________________________________________________\n"
     ]
    }
   ],
   "source": [
    "model = build_mlp(input_shape=x_train.shape[1:])\n",
    "model.summary()"
   ]
  },
  {
   "cell_type": "code",
   "execution_count": 8,
   "metadata": {},
   "outputs": [],
   "source": [
    "## 超參數設定\n",
    "LEARNING_RATE = 0.001\n",
    "EPOCHS = 100\n",
    "BATCH_SIZE = 256"
   ]
  },
  {
   "cell_type": "code",
   "execution_count": 9,
   "metadata": {},
   "outputs": [],
   "source": [
    "optimizer = keras.optimizers.Adam(lr=LEARNING_RATE)\n",
    "model.compile(loss=\"categorical_crossentropy\", metrics=[\"accuracy\"], optimizer=optimizer)"
   ]
  },
  {
   "cell_type": "code",
   "execution_count": 10,
   "metadata": {},
   "outputs": [
    {
     "name": "stdout",
     "output_type": "stream",
     "text": [
      "Requirement already satisfied: ipython-autotime in d:\\code\\python\\venv_tensorflow-gpu\\lib\\site-packages (0.2.0)\n",
      "Requirement already satisfied: ipython in d:\\code\\python\\venv_tensorflow-gpu\\lib\\site-packages (from ipython-autotime) (7.18.1)\n",
      "Requirement already satisfied: setuptools>=18.5 in d:\\code\\python\\venv_tensorflow-gpu\\lib\\site-packages (from ipython->ipython-autotime) (41.2.0)\n",
      "Requirement already satisfied: colorama; sys_platform == \"win32\" in d:\\code\\python\\venv_tensorflow-gpu\\lib\\site-packages (from ipython->ipython-autotime) (0.4.3)\n",
      "Requirement already satisfied: pickleshare in d:\\code\\python\\venv_tensorflow-gpu\\lib\\site-packages (from ipython->ipython-autotime) (0.7.5)\n",
      "Requirement already satisfied: jedi>=0.10 in d:\\code\\python\\venv_tensorflow-gpu\\lib\\site-packages (from ipython->ipython-autotime) (0.17.2)\n",
      "Requirement already satisfied: decorator in d:\\code\\python\\venv_tensorflow-gpu\\lib\\site-packages (from ipython->ipython-autotime) (4.4.2)\n",
      "Requirement already satisfied: pygments in d:\\code\\python\\venv_tensorflow-gpu\\lib\\site-packages (from ipython->ipython-autotime) (2.7.1)\n",
      "Requirement already satisfied: traitlets>=4.2 in d:\\code\\python\\venv_tensorflow-gpu\\lib\\site-packages (from ipython->ipython-autotime) (5.0.4)\n",
      "Requirement already satisfied: prompt-toolkit!=3.0.0,!=3.0.1,<3.1.0,>=2.0.0 in d:\\code\\python\\venv_tensorflow-gpu\\lib\\site-packages (from ipython->ipython-autotime) (3.0.7)\n",
      "Requirement already satisfied: backcall in d:\\code\\python\\venv_tensorflow-gpu\\lib\\site-packages (from ipython->ipython-autotime) (0.2.0)\n",
      "Requirement already satisfied: parso<0.8.0,>=0.7.0 in d:\\code\\python\\venv_tensorflow-gpu\\lib\\site-packages (from jedi>=0.10->ipython->ipython-autotime) (0.7.1)\n",
      "Requirement already satisfied: ipython-genutils in d:\\code\\python\\venv_tensorflow-gpu\\lib\\site-packages (from traitlets>=4.2->ipython->ipython-autotime) (0.2.0)\n",
      "Requirement already satisfied: wcwidth in d:\\code\\python\\venv_tensorflow-gpu\\lib\\site-packages (from prompt-toolkit!=3.0.0,!=3.0.1,<3.1.0,>=2.0.0->ipython->ipython-autotime) (0.2.5)\n",
      "time: 0 ns\n"
     ]
    }
   ],
   "source": [
    "# to measure execution time\n",
    "!pip install ipython-autotime\n",
    "%load_ext autotime"
   ]
  },
  {
   "cell_type": "code",
   "execution_count": 11,
   "metadata": {
    "scrolled": true
   },
   "outputs": [
    {
     "name": "stdout",
     "output_type": "stream",
     "text": [
      "Epoch 1/100\n",
      "196/196 [==============================] - 4s 21ms/step - loss: 1.7078 - accuracy: 0.3943 - val_loss: 1.5322 - val_accuracy: 0.4568\n",
      "Epoch 2/100\n",
      "196/196 [==============================] - 3s 16ms/step - loss: 1.4792 - accuracy: 0.4787 - val_loss: 1.4676 - val_accuracy: 0.4791\n",
      "Epoch 3/100\n",
      "196/196 [==============================] - 3s 17ms/step - loss: 1.3526 - accuracy: 0.5240 - val_loss: 1.4114 - val_accuracy: 0.5048\n",
      "Epoch 4/100\n",
      "196/196 [==============================] - 3s 17ms/step - loss: 1.2518 - accuracy: 0.5604 - val_loss: 1.3750 - val_accuracy: 0.5211\n",
      "Epoch 5/100\n",
      "196/196 [==============================] - 3s 17ms/step - loss: 1.1552 - accuracy: 0.5919 - val_loss: 1.3725 - val_accuracy: 0.5198\n",
      "Epoch 6/100\n",
      "196/196 [==============================] - 3s 18ms/step - loss: 1.0732 - accuracy: 0.6212 - val_loss: 1.3737 - val_accuracy: 0.5278\n",
      "Epoch 7/100\n",
      "196/196 [==============================] - 3s 18ms/step - loss: 1.0007 - accuracy: 0.6485 - val_loss: 1.3662 - val_accuracy: 0.5411\n",
      "Epoch 8/100\n",
      "196/196 [==============================] - 3s 18ms/step - loss: 0.9100 - accuracy: 0.6757 - val_loss: 1.3904 - val_accuracy: 0.5444\n",
      "Epoch 9/100\n",
      "196/196 [==============================] - 3s 18ms/step - loss: 0.8256 - accuracy: 0.7067 - val_loss: 1.4202 - val_accuracy: 0.5382\n",
      "Epoch 10/100\n",
      "196/196 [==============================] - 3s 18ms/step - loss: 0.7448 - accuracy: 0.7341 - val_loss: 1.4878 - val_accuracy: 0.5360\n",
      "Epoch 11/100\n",
      "196/196 [==============================] - 3s 17ms/step - loss: 0.6799 - accuracy: 0.7585 - val_loss: 1.5678 - val_accuracy: 0.5443\n",
      "Epoch 12/100\n",
      "196/196 [==============================] - 3s 17ms/step - loss: 0.5967 - accuracy: 0.7896 - val_loss: 1.6675 - val_accuracy: 0.5404\n",
      "Epoch 13/100\n",
      "196/196 [==============================] - 3s 18ms/step - loss: 0.5396 - accuracy: 0.8090 - val_loss: 1.6914 - val_accuracy: 0.5394\n",
      "Epoch 14/100\n",
      "196/196 [==============================] - 4s 19ms/step - loss: 0.4836 - accuracy: 0.8273 - val_loss: 1.8617 - val_accuracy: 0.5405\n",
      "Epoch 15/100\n",
      "196/196 [==============================] - 4s 19ms/step - loss: 0.4339 - accuracy: 0.8462 - val_loss: 1.8892 - val_accuracy: 0.5432\n",
      "Epoch 16/100\n",
      "196/196 [==============================] - 4s 19ms/step - loss: 0.3964 - accuracy: 0.8606 - val_loss: 2.0917 - val_accuracy: 0.5287\n",
      "Epoch 17/100\n",
      "196/196 [==============================] - 4s 19ms/step - loss: 0.3573 - accuracy: 0.8769 - val_loss: 2.1385 - val_accuracy: 0.5382\n",
      "Epoch 18/100\n",
      "196/196 [==============================] - 4s 21ms/step - loss: 0.3130 - accuracy: 0.8896 - val_loss: 2.2481 - val_accuracy: 0.5315\n",
      "Epoch 19/100\n",
      "196/196 [==============================] - 4s 21ms/step - loss: 0.2991 - accuracy: 0.8945 - val_loss: 2.4237 - val_accuracy: 0.5278\n",
      "Epoch 20/100\n",
      "196/196 [==============================] - 4s 19ms/step - loss: 0.2862 - accuracy: 0.8998 - val_loss: 2.4074 - val_accuracy: 0.5390\n",
      "Epoch 21/100\n",
      "196/196 [==============================] - 4s 18ms/step - loss: 0.2456 - accuracy: 0.9142 - val_loss: 2.6480 - val_accuracy: 0.5347\n",
      "Epoch 22/100\n",
      "196/196 [==============================] - 4s 18ms/step - loss: 0.2417 - accuracy: 0.9162 - val_loss: 2.5130 - val_accuracy: 0.5354\n",
      "Epoch 23/100\n",
      "196/196 [==============================] - 4s 19ms/step - loss: 0.2088 - accuracy: 0.9279 - val_loss: 2.6888 - val_accuracy: 0.5454\n",
      "Epoch 24/100\n",
      "196/196 [==============================] - 4s 19ms/step - loss: 0.2111 - accuracy: 0.9267 - val_loss: 2.7763 - val_accuracy: 0.5407\n",
      "Epoch 25/100\n",
      "196/196 [==============================] - 4s 19ms/step - loss: 0.1913 - accuracy: 0.9338 - val_loss: 2.8928 - val_accuracy: 0.5410\n",
      "Epoch 26/100\n",
      "196/196 [==============================] - 4s 19ms/step - loss: 0.1771 - accuracy: 0.9392 - val_loss: 2.9400 - val_accuracy: 0.5405\n",
      "Epoch 27/100\n",
      "196/196 [==============================] - 4s 19ms/step - loss: 0.1834 - accuracy: 0.9375 - val_loss: 2.9892 - val_accuracy: 0.5346\n",
      "Epoch 28/100\n",
      "196/196 [==============================] - 4s 18ms/step - loss: 0.1726 - accuracy: 0.9422 - val_loss: 3.0704 - val_accuracy: 0.5379\n",
      "Epoch 29/100\n",
      "196/196 [==============================] - 4s 18ms/step - loss: 0.1736 - accuracy: 0.9404 - val_loss: 3.0535 - val_accuracy: 0.5318\n",
      "Epoch 30/100\n",
      "196/196 [==============================] - 4s 18ms/step - loss: 0.1591 - accuracy: 0.9465 - val_loss: 3.1765 - val_accuracy: 0.5403\n",
      "Epoch 31/100\n",
      "196/196 [==============================] - 4s 19ms/step - loss: 0.1567 - accuracy: 0.9474 - val_loss: 3.2125 - val_accuracy: 0.5336\n",
      "Epoch 32/100\n",
      "196/196 [==============================] - 4s 19ms/step - loss: 0.1502 - accuracy: 0.9495 - val_loss: 3.2014 - val_accuracy: 0.5397\n",
      "Epoch 33/100\n",
      "196/196 [==============================] - 4s 19ms/step - loss: 0.1320 - accuracy: 0.9557 - val_loss: 3.3415 - val_accuracy: 0.5396\n",
      "Epoch 34/100\n",
      "196/196 [==============================] - 4s 19ms/step - loss: 0.1452 - accuracy: 0.9512 - val_loss: 3.2348 - val_accuracy: 0.5402\n",
      "Epoch 35/100\n",
      "196/196 [==============================] - 4s 19ms/step - loss: 0.1347 - accuracy: 0.9549 - val_loss: 3.2258 - val_accuracy: 0.5478\n",
      "Epoch 36/100\n",
      "196/196 [==============================] - 4s 18ms/step - loss: 0.1296 - accuracy: 0.9574 - val_loss: 3.3193 - val_accuracy: 0.5397\n",
      "Epoch 37/100\n",
      "196/196 [==============================] - 4s 19ms/step - loss: 0.1262 - accuracy: 0.9582 - val_loss: 3.4125 - val_accuracy: 0.5391\n",
      "Epoch 38/100\n",
      "196/196 [==============================] - 4s 19ms/step - loss: 0.1247 - accuracy: 0.9593 - val_loss: 3.3282 - val_accuracy: 0.5394\n",
      "Epoch 39/100\n",
      "196/196 [==============================] - 4s 19ms/step - loss: 0.0984 - accuracy: 0.9676 - val_loss: 3.6369 - val_accuracy: 0.5410\n",
      "Epoch 40/100\n",
      "196/196 [==============================] - 4s 20ms/step - loss: 0.1271 - accuracy: 0.9591 - val_loss: 3.4682 - val_accuracy: 0.5410\n",
      "Epoch 41/100\n",
      "196/196 [==============================] - 4s 19ms/step - loss: 0.1162 - accuracy: 0.9608 - val_loss: 3.5411 - val_accuracy: 0.5402\n",
      "Epoch 42/100\n",
      "196/196 [==============================] - 4s 19ms/step - loss: 0.1127 - accuracy: 0.9630 - val_loss: 3.5259 - val_accuracy: 0.5375\n",
      "Epoch 43/100\n",
      "196/196 [==============================] - 4s 19ms/step - loss: 0.1232 - accuracy: 0.9605 - val_loss: 3.3913 - val_accuracy: 0.5434\n",
      "Epoch 44/100\n",
      "196/196 [==============================] - 4s 19ms/step - loss: 0.0936 - accuracy: 0.9688 - val_loss: 3.6244 - val_accuracy: 0.5435\n",
      "Epoch 45/100\n",
      "196/196 [==============================] - 4s 19ms/step - loss: 0.1111 - accuracy: 0.9649 - val_loss: 3.5345 - val_accuracy: 0.5474\n",
      "Epoch 46/100\n",
      "196/196 [==============================] - 4s 19ms/step - loss: 0.1076 - accuracy: 0.9643 - val_loss: 3.5389 - val_accuracy: 0.5378\n",
      "Epoch 47/100\n",
      "196/196 [==============================] - 3s 18ms/step - loss: 0.1131 - accuracy: 0.9641 - val_loss: 3.5673 - val_accuracy: 0.5455\n",
      "Epoch 48/100\n",
      "196/196 [==============================] - 4s 20ms/step - loss: 0.0984 - accuracy: 0.9679 - val_loss: 3.5137 - val_accuracy: 0.5496\n",
      "Epoch 49/100\n",
      "196/196 [==============================] - 4s 19ms/step - loss: 0.0849 - accuracy: 0.9728 - val_loss: 3.6690 - val_accuracy: 0.5472\n",
      "Epoch 50/100\n",
      "196/196 [==============================] - 4s 19ms/step - loss: 0.0953 - accuracy: 0.9689 - val_loss: 3.5981 - val_accuracy: 0.5462\n",
      "Epoch 51/100\n",
      "196/196 [==============================] - 4s 19ms/step - loss: 0.0831 - accuracy: 0.9730 - val_loss: 3.7289 - val_accuracy: 0.5407\n",
      "Epoch 52/100\n",
      "196/196 [==============================] - 4s 19ms/step - loss: 0.0974 - accuracy: 0.9682 - val_loss: 3.7340 - val_accuracy: 0.5322\n",
      "Epoch 53/100\n",
      "196/196 [==============================] - 4s 19ms/step - loss: 0.0906 - accuracy: 0.9708 - val_loss: 3.7700 - val_accuracy: 0.5414\n",
      "Epoch 54/100\n",
      "196/196 [==============================] - 4s 18ms/step - loss: 0.0875 - accuracy: 0.9723 - val_loss: 3.7387 - val_accuracy: 0.5407\n",
      "Epoch 55/100\n",
      "196/196 [==============================] - 3s 18ms/step - loss: 0.0898 - accuracy: 0.9710 - val_loss: 3.6921 - val_accuracy: 0.5419\n",
      "Epoch 56/100\n",
      "196/196 [==============================] - 4s 18ms/step - loss: 0.0747 - accuracy: 0.9763 - val_loss: 3.7884 - val_accuracy: 0.5393\n",
      "Epoch 57/100\n"
     ]
    },
    {
     "name": "stdout",
     "output_type": "stream",
     "text": [
      "196/196 [==============================] - 4s 18ms/step - loss: 0.0917 - accuracy: 0.9708 - val_loss: 3.8147 - val_accuracy: 0.5397\n",
      "Epoch 58/100\n",
      "196/196 [==============================] - 4s 18ms/step - loss: 0.0951 - accuracy: 0.9695 - val_loss: 3.6672 - val_accuracy: 0.5456\n",
      "Epoch 59/100\n",
      "196/196 [==============================] - 4s 18ms/step - loss: 0.0660 - accuracy: 0.9782 - val_loss: 3.8454 - val_accuracy: 0.5428\n",
      "Epoch 60/100\n",
      "196/196 [==============================] - 4s 19ms/step - loss: 0.0905 - accuracy: 0.9715 - val_loss: 3.9873 - val_accuracy: 0.5446\n",
      "Epoch 61/100\n",
      "196/196 [==============================] - 4s 18ms/step - loss: 0.0824 - accuracy: 0.9734 - val_loss: 3.7056 - val_accuracy: 0.5420\n",
      "Epoch 62/100\n",
      "196/196 [==============================] - 3s 18ms/step - loss: 0.0703 - accuracy: 0.9780 - val_loss: 3.8630 - val_accuracy: 0.5441\n",
      "Epoch 63/100\n",
      "196/196 [==============================] - 3s 17ms/step - loss: 0.0839 - accuracy: 0.9745 - val_loss: 3.8353 - val_accuracy: 0.5381\n",
      "Epoch 64/100\n",
      "196/196 [==============================] - 3s 18ms/step - loss: 0.0675 - accuracy: 0.9781 - val_loss: 3.9954 - val_accuracy: 0.5423\n",
      "Epoch 65/100\n",
      "196/196 [==============================] - 4s 18ms/step - loss: 0.0672 - accuracy: 0.9784 - val_loss: 4.0084 - val_accuracy: 0.5403\n",
      "Epoch 66/100\n",
      "196/196 [==============================] - 4s 19ms/step - loss: 0.0819 - accuracy: 0.9746 - val_loss: 3.9036 - val_accuracy: 0.5481\n",
      "Epoch 67/100\n",
      "196/196 [==============================] - 4s 18ms/step - loss: 0.0708 - accuracy: 0.9773 - val_loss: 3.9088 - val_accuracy: 0.5384\n",
      "Epoch 68/100\n",
      "196/196 [==============================] - 4s 18ms/step - loss: 0.0818 - accuracy: 0.9742 - val_loss: 3.7940 - val_accuracy: 0.5419\n",
      "Epoch 69/100\n",
      "196/196 [==============================] - 4s 18ms/step - loss: 0.0710 - accuracy: 0.9773 - val_loss: 3.9879 - val_accuracy: 0.5547\n",
      "Epoch 70/100\n",
      "196/196 [==============================] - 4s 19ms/step - loss: 0.0570 - accuracy: 0.9825 - val_loss: 3.9071 - val_accuracy: 0.5369\n",
      "Epoch 71/100\n",
      "196/196 [==============================] - 4s 19ms/step - loss: 0.0698 - accuracy: 0.9782 - val_loss: 4.0421 - val_accuracy: 0.5417\n",
      "Epoch 72/100\n",
      "196/196 [==============================] - 4s 18ms/step - loss: 0.0682 - accuracy: 0.9787 - val_loss: 4.1364 - val_accuracy: 0.5393\n",
      "Epoch 73/100\n",
      "196/196 [==============================] - 4s 19ms/step - loss: 0.0825 - accuracy: 0.9747 - val_loss: 3.7674 - val_accuracy: 0.5395\n",
      "Epoch 74/100\n",
      "196/196 [==============================] - 4s 20ms/step - loss: 0.0582 - accuracy: 0.9818 - val_loss: 4.0167 - val_accuracy: 0.5382\n",
      "Epoch 75/100\n",
      "196/196 [==============================] - 4s 19ms/step - loss: 0.0750 - accuracy: 0.9771 - val_loss: 3.8054 - val_accuracy: 0.5412\n",
      "Epoch 76/100\n",
      "196/196 [==============================] - 4s 19ms/step - loss: 0.0640 - accuracy: 0.9803 - val_loss: 3.9783 - val_accuracy: 0.5442\n",
      "Epoch 77/100\n",
      "196/196 [==============================] - 4s 19ms/step - loss: 0.0569 - accuracy: 0.9813 - val_loss: 4.0860 - val_accuracy: 0.5396\n",
      "Epoch 78/100\n",
      "196/196 [==============================] - 4s 20ms/step - loss: 0.0656 - accuracy: 0.9790 - val_loss: 4.0639 - val_accuracy: 0.5465\n",
      "Epoch 79/100\n",
      "196/196 [==============================] - 4s 20ms/step - loss: 0.0649 - accuracy: 0.9797 - val_loss: 4.1793 - val_accuracy: 0.5431\n",
      "Epoch 80/100\n",
      "196/196 [==============================] - 4s 19ms/step - loss: 0.0708 - accuracy: 0.9777 - val_loss: 3.8241 - val_accuracy: 0.5468\n",
      "Epoch 81/100\n",
      "196/196 [==============================] - 3s 18ms/step - loss: 0.0623 - accuracy: 0.9809 - val_loss: 3.9278 - val_accuracy: 0.5412\n",
      "Epoch 82/100\n",
      "196/196 [==============================] - 4s 19ms/step - loss: 0.0569 - accuracy: 0.9822 - val_loss: 4.0573 - val_accuracy: 0.5418\n",
      "Epoch 83/100\n",
      "196/196 [==============================] - 4s 18ms/step - loss: 0.0701 - accuracy: 0.9792 - val_loss: 3.7629 - val_accuracy: 0.5505\n",
      "Epoch 84/100\n",
      "196/196 [==============================] - 4s 18ms/step - loss: 0.0621 - accuracy: 0.9803 - val_loss: 3.9230 - val_accuracy: 0.5465\n",
      "Epoch 85/100\n",
      "196/196 [==============================] - 4s 19ms/step - loss: 0.0491 - accuracy: 0.9844 - val_loss: 4.0632 - val_accuracy: 0.5497\n",
      "Epoch 86/100\n",
      "196/196 [==============================] - 4s 19ms/step - loss: 0.0572 - accuracy: 0.9819 - val_loss: 3.9752 - val_accuracy: 0.5496\n",
      "Epoch 87/100\n",
      "196/196 [==============================] - 4s 19ms/step - loss: 0.0697 - accuracy: 0.9788 - val_loss: 3.9353 - val_accuracy: 0.5477\n",
      "Epoch 88/100\n",
      "196/196 [==============================] - 4s 18ms/step - loss: 0.0526 - accuracy: 0.9830 - val_loss: 4.0188 - val_accuracy: 0.5436\n",
      "Epoch 89/100\n",
      "196/196 [==============================] - 3s 18ms/step - loss: 0.0599 - accuracy: 0.9816 - val_loss: 4.0688 - val_accuracy: 0.5527\n",
      "Epoch 90/100\n",
      "196/196 [==============================] - 3s 17ms/step - loss: 0.0388 - accuracy: 0.9878 - val_loss: 4.2903 - val_accuracy: 0.5503\n",
      "Epoch 91/100\n",
      "196/196 [==============================] - 4s 18ms/step - loss: 0.0564 - accuracy: 0.9823 - val_loss: 3.9345 - val_accuracy: 0.5418\n",
      "Epoch 92/100\n",
      "196/196 [==============================] - 4s 18ms/step - loss: 0.0544 - accuracy: 0.9830 - val_loss: 4.0517 - val_accuracy: 0.5466\n",
      "Epoch 93/100\n",
      "196/196 [==============================] - 4s 19ms/step - loss: 0.0683 - accuracy: 0.9784 - val_loss: 3.7127 - val_accuracy: 0.5487\n",
      "Epoch 94/100\n",
      "196/196 [==============================] - 4s 19ms/step - loss: 0.0519 - accuracy: 0.9839 - val_loss: 4.0558 - val_accuracy: 0.5442\n",
      "Epoch 95/100\n",
      "196/196 [==============================] - 4s 18ms/step - loss: 0.0485 - accuracy: 0.9854 - val_loss: 4.2609 - val_accuracy: 0.5514\n",
      "Epoch 96/100\n",
      "196/196 [==============================] - 4s 18ms/step - loss: 0.0590 - accuracy: 0.9817 - val_loss: 3.8690 - val_accuracy: 0.5442\n",
      "Epoch 97/100\n",
      "196/196 [==============================] - 4s 19ms/step - loss: 0.0538 - accuracy: 0.9836 - val_loss: 3.8276 - val_accuracy: 0.5456\n",
      "Epoch 98/100\n",
      "196/196 [==============================] - 4s 18ms/step - loss: 0.0436 - accuracy: 0.9871 - val_loss: 4.0902 - val_accuracy: 0.5517\n",
      "Epoch 99/100\n",
      "196/196 [==============================] - 4s 18ms/step - loss: 0.0597 - accuracy: 0.9817 - val_loss: 3.9683 - val_accuracy: 0.5462\n",
      "Epoch 100/100\n",
      "196/196 [==============================] - 4s 19ms/step - loss: 0.0478 - accuracy: 0.9850 - val_loss: 4.0384 - val_accuracy: 0.5462\n"
     ]
    },
    {
     "data": {
      "text/plain": [
       "<tensorflow.python.keras.callbacks.History at 0x26729081708>"
      ]
     },
     "execution_count": 11,
     "metadata": {},
     "output_type": "execute_result"
    },
    {
     "name": "stdout",
     "output_type": "stream",
     "text": [
      "time: 6min 6s\n"
     ]
    }
   ],
   "source": [
    "model.fit(x_train, y_train, \n",
    "          epochs=EPOCHS, \n",
    "          batch_size=BATCH_SIZE, \n",
    "          validation_data=(x_test, y_test), \n",
    "          shuffle=True)"
   ]
  },
  {
   "cell_type": "code",
   "execution_count": 12,
   "metadata": {},
   "outputs": [
    {
     "data": {
      "image/png": "[encoded data removed]",
      "text/plain": [
       "<Figure size 432x288 with 1 Axes>"
      ]
     },
     "metadata": {
      "needs_background": "light"
     },
     "output_type": "display_data"
    },
    {
     "data": {
      "image/png": "[encoded data removed]",
      "text/plain": [
       "<Figure size 432x288 with 1 Axes>"
      ]
     },
     "metadata": {
      "needs_background": "light"
     },
     "output_type": "display_data"
    },
    {
     "name": "stdout",
     "output_type": "stream",
     "text": [
      "time: 3.77 s\n"
     ]
    }
   ],
   "source": [
    "import matplotlib.pyplot as plt\n",
    "\n",
    "\n",
    "train_loss = model.history.history[\"loss\"]\n",
    "valid_loss = model.history.history[\"val_loss\"]\n",
    "\n",
    "train_acc = model.history.history[\"accuracy\"]\n",
    "valid_acc = model.history.history[\"val_accuracy\"]\n",
    "\n",
    "plt.plot(range(len(train_loss)), train_loss, label=\"train loss\")\n",
    "plt.plot(range(len(valid_loss)), valid_loss, label=\"valid loss\")\n",
    "plt.legend()\n",
    "plt.title(\"Loss\")\n",
    "plt.show()\n",
    "\n",
    "plt.plot(range(len(train_acc)), train_acc, label=\"train accuracy\")\n",
    "plt.plot(range(len(valid_acc)), valid_acc, label=\"valid accuracy\")\n",
    "plt.legend()\n",
    "plt.title(\"Accuracy\")\n",
    "plt.show()"
   ]
  },
  {
   "cell_type": "code",
   "execution_count": null,
   "metadata": {},
   "outputs": [],
   "source": []
  }
 ],
 "metadata": {
  "kernelspec": {
   "display_name": "Python 3",
   "language": "python",
   "name": "python3"
  },
  "language_info": {
   "codemirror_mode": {
    "name": "ipython",
    "version": 3
   },
   "file_extension": ".py",
   "mimetype": "text/x-python",
   "name": "python",
   "nbconvert_exporter": "python",
   "pygments_lexer": "ipython3",
   "version": "3.7.7"
  }
 },
 "nbformat": 4,
 "nbformat_minor": 2
}
