{
 "cells": [
  {
   "cell_type": "markdown",
   "metadata": {},
   "source": [
    "## [作業重點]\n",
    "目前你應該已經要很清楚資料集中，資料的型態是什麼樣子囉！包含特徵 (features) 與標籤 (labels)。因此要記得未來不管什麼專案，必須要把資料清理成相同的格式，才能送進模型訓練。\n",
    "今天的作業開始踏入決策樹這個非常重要的模型，請務必確保你理解模型中每個超參數的意思，並試著調整看看，對最終預測結果的影響為何"
   ]
  },
  {
   "cell_type": "markdown",
   "metadata": {},
   "source": [
    "## 作業\n",
    "\n",
    "1. 試著調整 DecisionTreeClassifier(...) 中的參數，並觀察是否會改變結果？\n",
    "2. 改用其他資料集 (boston, wine)，並與回歸模型的結果進行比較"
   ]
  },
  {
   "cell_type": "code",
   "execution_count": 1,
   "metadata": {},
   "outputs": [],
   "source": [
    "from sklearn import datasets, metrics, linear_model\n",
    "\n",
    "# 如果是分類問題，請使用 DecisionTreeClassifier，若為回歸問題，請使用 DecisionTreeRegressor\n",
    "from sklearn.tree import DecisionTreeClassifier, DecisionTreeRegressor\n",
    "from sklearn.model_selection import train_test_split\n",
    "from sklearn.model_selection import cross_val_score"
   ]
  },
  {
   "cell_type": "markdown",
   "metadata": {},
   "source": [
    "## Iris dataset\n",
    "#### Ans: 調整 DecisionTreeClassifier(...) 中的參數，Test Acuuracy 沒有改變"
   ]
  },
  {
   "cell_type": "code",
   "execution_count": 2,
   "metadata": {},
   "outputs": [
    {
     "data": {
      "text/plain": [
       "array([0.95652174, 0.86956522, 0.95454545, 0.90909091, 0.95454545])"
      ]
     },
     "execution_count": 2,
     "metadata": {},
     "output_type": "execute_result"
    }
   ],
   "source": [
    "# 讀取鳶尾花資料集\n",
    "iris = datasets.load_iris()\n",
    "\n",
    "# 切分訓練集/測試集\n",
    "x_train, x_test, y_train, y_test = train_test_split(iris.data, iris.target, test_size=0.25, random_state=4)\n",
    "\n",
    "# 建立模型\n",
    "clf = DecisionTreeClassifier(criterion='entropy', max_depth=4, min_samples_split=16, min_samples_leaf=8)\n",
    "\n",
    "cross_val_score(clf, x_train, y_train, cv=5)"
   ]
  },
  {
   "cell_type": "code",
   "execution_count": 3,
   "metadata": {
    "collapsed": true
   },
   "outputs": [],
   "source": [
    "# 訓練模型\n",
    "clf.fit(x_train, y_train)\n",
    "\n",
    "# 預測測試集\n",
    "y_pred = clf.predict(x_test)"
   ]
  },
  {
   "cell_type": "code",
   "execution_count": 4,
   "metadata": {},
   "outputs": [
    {
     "name": "stdout",
     "output_type": "stream",
     "text": [
      "Acuuracy: train=0.9553571428571429 test=0.9736842105263158 \n"
     ]
    }
   ],
   "source": [
    "acc_train = metrics.accuracy_score(y_train, clf.predict(x_train))\n",
    "acc_test = metrics.accuracy_score(y_test, y_pred)\n",
    "print(\"Acuuracy: train={} test={} \".format(acc_train, acc_test))"
   ]
  },
  {
   "cell_type": "markdown",
   "metadata": {},
   "source": [
    "## Boston dataset\n",
    "#### Ans: LinearRegression 的 test error: 25.42; DecisionTreeRegressor 的 test error: 23.58"
   ]
  },
  {
   "cell_type": "code",
   "execution_count": 5,
   "metadata": {
    "collapsed": true
   },
   "outputs": [],
   "source": [
    "# 讀取boston資料集\n",
    "boston = datasets.load_boston()"
   ]
  },
  {
   "cell_type": "code",
   "execution_count": 6,
   "metadata": {},
   "outputs": [
    {
     "name": "stdout",
     "output_type": "stream",
     "text": [
      "Mean squared error: 25.42\n"
     ]
    }
   ],
   "source": [
    "# 切分訓練集/測試集\n",
    "x_train, x_test, y_train, y_test = train_test_split(boston.data, boston.target, test_size=0.2, random_state=4)\n",
    "\n",
    "# 建立一個線性回歸模型\n",
    "regr = linear_model.LinearRegression()\n",
    "\n",
    "# 將訓練資料丟進去模型訓練\n",
    "regr.fit(x_train, y_train)\n",
    "\n",
    "# 將測試資料丟進模型得到預測結果\n",
    "y_pred = regr.predict(x_test)\n",
    "\n",
    "# 預測值與實際值的差距，使用 MSE\n",
    "print(\"Mean squared error: %.2f\"\n",
    "      % metrics.mean_squared_error(y_test, y_pred))"
   ]
  },
  {
   "cell_type": "code",
   "execution_count": 11,
   "metadata": {},
   "outputs": [
    {
     "name": "stdout",
     "output_type": "stream",
     "text": [
      "max_depth=2 Mean squared error: train=23.19 test=38.35\n",
      "max_depth=4 Mean squared error: train=9.56 test=28.77\n",
      "max_depth=6 Mean squared error: train=4.89 test=24.94\n",
      "max_depth=8 Mean squared error: train=2.26 test=23.58\n",
      "max_depth=10 Mean squared error: train=1.01 test=23.76\n",
      "max_depth=12 Mean squared error: train=0.26 test=24.73\n",
      "max_depth=14 Mean squared error: train=0.03 test=26.25\n",
      "max_depth=16 Mean squared error: train=0.00 test=24.57\n",
      "max_depth=18 Mean squared error: train=0.00 test=26.24\n"
     ]
    },
    {
     "data": {
      "text/plain": [
       "<matplotlib.legend.Legend at 0x1e8f671c0f0>"
      ]
     },
     "execution_count": 11,
     "metadata": {},
     "output_type": "execute_result"
    },
    {
     "data": {
      "image/png": "[encoded data removed]",
      "text/plain": [
       "<Figure size 432x288 with 1 Axes>"
      ]
     },
     "metadata": {},
     "output_type": "display_data"
    }
   ],
   "source": [
    "import matplotlib.pyplot as plt\n",
    "%matplotlib inline\n",
    "\n",
    "train_err_lst = []\n",
    "test_err_lst = []\n",
    "for i in range(2,20,2):\n",
    "    tree = DecisionTreeRegressor(criterion='mse', max_depth=i)\n",
    "    \n",
    "    # 訓練模型\n",
    "    tree.fit(x_train, y_train)\n",
    "\n",
    "    # 預測測試集\n",
    "    y_pred = tree.predict(x_test)\n",
    "\n",
    "    # 預測值與實際值的差距，使用 MSE\n",
    "    train_err = metrics.mean_squared_error(y_train, tree.predict(x_train))\n",
    "    test_err =  metrics.mean_squared_error(y_test, y_pred)\n",
    "    print(\"max_depth={} Mean squared error: train={:.2f} test={:.2f}\".format( i, train_err, test_err))  \n",
    "    \n",
    "    train_err_lst.append(train_err)\n",
    "    test_err_lst.append(test_err)\n",
    "    \n",
    "plt.plot(list(range(2,20,2)), train_err_lst, 'b', label='train_err')    \n",
    "plt.plot(list(range(2,20,2)), test_err_lst, 'r', label='test_err')\n",
    "plt.xlabel('max_depth')\n",
    "plt.ylabel('Mean squared error')\n",
    "plt.legend()"
   ]
  },
  {
   "cell_type": "code",
   "execution_count": null,
   "metadata": {
    "collapsed": true
   },
   "outputs": [],
   "source": []
  }
 ],
 "metadata": {
  "kernelspec": {
   "display_name": "Python 3",
   "language": "python",
   "name": "python3"
  },
  "language_info": {
   "codemirror_mode": {
    "name": "ipython",
    "version": 3
   },
   "file_extension": ".py",
   "mimetype": "text/x-python",
   "name": "python",
   "nbconvert_exporter": "python",
   "pygments_lexer": "ipython3",
   "version": "3.6.3"
  }
 },
 "nbformat": 4,
 "nbformat_minor": 2
}
